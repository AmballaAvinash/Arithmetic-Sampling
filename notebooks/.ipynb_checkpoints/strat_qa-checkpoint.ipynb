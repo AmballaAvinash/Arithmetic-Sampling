{
 "cells": [
  {
   "cell_type": "code",
   "execution_count": 1,
   "id": "18b33947-e003-4fad-8ad7-d2ef443c1ddb",
   "metadata": {},
   "outputs": [
    {
     "name": "stderr",
     "output_type": "stream",
     "text": [
      "/work/pi_mccallum_umass_edu/aparashar_umass_edu/.conda/envs/as01/lib/python3.10/site-packages/tqdm/auto.py:21: TqdmWarning: IProgress not found. Please update jupyter and ipywidgets. See https://ipywidgets.readthedocs.io/en/stable/user_install.html\n",
      "  from .autonotebook import tqdm as notebook_tqdm\n"
     ]
    }
   ],
   "source": [
    "import random\n",
    "from transformers import AutoTokenizer, AutoModelForCausalLM\n",
    "import torch\n",
    "from transformers import BitsAndBytesConfig\n",
    "from tqdm import tqdm\n",
    "\n"
   ]
  },
  {
   "cell_type": "code",
   "execution_count": null,
   "id": "c3a4a3db-76ad-4709-ad4e-0fb3f413dab7",
   "metadata": {},
   "outputs": [],
   "source": [
    "qa_exemplars = [\n",
    "    {\n",
    "        \"question\": \"Do hamsters provide food for any animals?\",\n",
    "        \"reasoning\": \"Hamsters are prey animals. Prey are food for predators. Thus, hamsters provide food for some animals. So the answer is yes.\",\n",
    "        \"answer\" : \"Yes\"\n",
    "    },\n",
    "    {\n",
    "        \"question\": \"Could Brooke Shields succeed at University of Pennsylvania?\",\n",
    "        \"reasoning\": \"Brooke Shields went to Princeton University. Princeton University is about as academically rigorous as the University of Pennsylvania. Thus, Brooke Shields could also succeed at the University of Pennsylvania. So the answer is yes.\",\n",
    "        \"answer\" : \"Yes\"\n",
    "    },\n",
    "    {\n",
    "        \"question\": \"Hydrogen’s atomic number squared exceeds number of Spice Girls?\",\n",
    "        \"reasoning\": \"Hydroßen has an atomic number of 1. 1 squared is 1. There are 5 Spice Girls. Thus, Hydrogen’s atomic number squared is less than 5. So the answer is no.\",\n",
    "        \"answer\" : \"No\"\n",
    "    },\n",
    "    {\n",
    "        \"question\": \"Is it common to see frost during some college commencements?\",\n",
    "        \"reasoning\": \"College commencement ceremonies can happen in December, May, and June. December is in the winter, so there can be frost. Thus, there could be frost at some commencements. So the answer is yes.\",\n",
    "        \"answer\" : \"Yes\"\n",
    "    },\n",
    "    {\n",
    "        \"question\": \"Could a llama birth twice during War in Vietnam (1945-46)?\",\n",
    "        \"reasoning\": \"The War in Vietnam was 6 months. The gestation period for a llama is 11 months, which is more than 6 months. Thus, a llama could not give birth twice during the War in Vietnam. So the answer is no.\",\n",
    "        \"answer\" : \"No\"\n",
    "    },\n",
    "    {\n",
    "        \"question\": \"Would a pear sink in water?\",\n",
    "        \"reasoning\": \"The density of a pear is about 0.6 g/cm3, which is less than water. Objects less dense than water float. Thus, a pear would float. So the answer is no.\",\n",
    "        \"answer\" : \"No\"\n",
    "    }\n",
    "]\n"
   ]
  },
  {
   "cell_type": "code",
   "execution_count": 18,
   "id": "58ef31e7-88bb-4110-a333-fbf0efa153ca",
   "metadata": {},
   "outputs": [],
   "source": [
    "# def run_experiments():\n",
    "#     tokenizer = AutoTokenizer.from_pretrained(\"google/gemma-2b\", use_fast=True)\n",
    "#     model = AutoModelForCausalLM.from_pretrained(\"google/gemma-2\").to('cuda')\n",
    "#     torch.device = 'cuda'\n",
    "#     # set pad_token_id to eos_token_id because GPT2 does not have a EOS token\n",
    "#     model.config.pad_token_id = model.config.eos_token_id\n",
    "#     model.generation_config.pad_token_id = model.config.eos_token_id\n",
    "#     data = random.sample(load_hf_data_set('validation','wmt14','de-en')['translation'],200)\n",
    "    \n",
    "#     default_fwd_instructi\n",
    "#     on = f\"Yes or No: {question}\"\n",
    "#     default_fwd_input_prefix = \"Yes or No: \"\n",
    "#     default_fwd_target_prefix = \"Answer: \"\n",
    "#     demos = random.sample(qa_pairs,5)\n",
    "#     demos = [[default_fwd_input_prefix + d[\"question\"]] +'\\n'  [default_fwd_target_prefix + d[\"answer\"]] for d in demos]\n",
    "#     prompt_arr = demos.append([default_fwd_instruction,default_fwd_input_prefix])\n",
    "#     for N in [5, 10]:\n",
    "#         for temp in [0.5, 1.0]:\n",
    "#             test(prompt_arr, model, tokenizer, data, default_fwd_target_prefix, N, temp)\n"
   ]
  },
  {
   "cell_type": "code",
   "execution_count": 5,
   "id": "16e625d3-6e57-45af-819f-818403a41bb2",
   "metadata": {},
   "outputs": [
    {
     "data": {
      "text/plain": [
       "[['Yes or No: Could Brooke Shields succeed at University of Pennsylvania?',\n",
       "  'Answer: Brooke Shields went to Princeton University. Princeton University is about as academically rigorous as the University of Pennsylvania. Thus, Brooke Shields could also succeed at the University of Pennsylvania. So the answer is yes.'],\n",
       " ['Yes or No: Hydrogen’s atomic number squared exceeds number of Spice Girls?',\n",
       "  'Answer: Hydroßen has an atomic number of 1. 1 squared is 1. There are 5 Spice Girls. Thus, Hydrogen’s atomic number squared is less than 5. So the answer is no.'],\n",
       " ['Yes or No: Is it common to see frost during some college commencements?',\n",
       "  'Answer: College commencement ceremonies can happen in December, May, and June. December is in the winter, so there can be frost. Thus, there could be frost at some commencements. So the answer is yes.'],\n",
       " ['Yes or No: Do hamsters provide food for any animals?',\n",
       "  'Answer: Hamsters are prey animals. Prey are food for predators. Thus, hamsters provide food for some animals. So the answer is yes.'],\n",
       " ['Yes or No: Could a llama birth twice during War in Vietnam (1945-46)?',\n",
       "  'Answer: The War in Vietnam was 6 months. The gestation period for a llama is 11 months, which is more than 6 months. Thus, a llama could not give birth twice during the War in Vietnam. So the answer is no.']]"
      ]
     },
     "execution_count": 5,
     "metadata": {},
     "output_type": "execute_result"
    }
   ],
   "source": [
    "# default_fwd_instruction = f\"Yes or No: {question}\"\n",
    "default_fwd_input_prefix = \"Yes or No: \"\n",
    "default_fwd_target_prefix = \"Answer: \"\n",
    "demos = random.sample(qa_exemplars,5)\n",
    "demos = [[default_fwd_input_prefix + d[\"question\"]]+  [default_fwd_target_prefix + d[\"answer\"]] for d in demos]# def test(prompt_arr, model, tokenizer, data,demos, default_fwd_target_prefix, N = 10, temp = 0.5):\n",
    "demos"
   ]
  },
  {
   "cell_type": "code",
   "execution_count": 7,
   "id": "fc79f666-c8f2-4fbf-b9e0-c23979b54c50",
   "metadata": {},
   "outputs": [
    {
     "name": "stdout",
     "output_type": "stream",
     "text": [
      "2290\n",
      "2285\n"
     ]
    },
    {
     "name": "stderr",
     "output_type": "stream",
     "text": [
      "Loading checkpoint shards: 100%|███████████████████████████████████████████████████████████████████████████████████████████████████████████████████████████████████████| 2/2 [00:13<00:00,  6.51s/it]\n",
      "Predicting:   0%|                                                                                                                                                              | 0/6 [00:00<?, ?it/s]Asking to truncate to max_length but no maximum length is provided and the model has no predefined maximum length. Default to no truncation.\n"
     ]
    },
    {
     "name": "stdout",
     "output_type": "stream",
     "text": [
      "{'input': 'Are all limbs required for jujutsu?', 'target_scores': {'Yes': 0, 'No': 1}, 'target': 'No. Jujutsu is a Japanese martial art that uses unarmed combat to subdue opponents. Nick Newell, a congenital amputee, got his black belt after two straight submission wins. Fighter Aaron LaPointe has succeeded in martial arts with a fully paralyzed arm.'}\n",
      "prompt: Answer the following question with Yes or No, that is the last line of your answer should be of the format : So the answer is <your_answer>. Question: Hydrogen’s atomic number squared exceeds number of Spice Girls?\n",
      "Answer: Hydroßen has an atomic number of 1. 1 squared is 1. There are 5 Spice Girls. Thus, Hydrogen’s atomic number squared is less than 5. So the answer is no.\n",
      "Answer the following question with Yes or No, that is the last line of your answer should be of the format : So the answer is <your_answer>. Question: Could Brooke Shields succeed at University of Pennsylvania?\n",
      "Answer: Brooke Shields went to Princeton University. Princeton University is about as academically rigorous as the University of Pennsylvania. Thus, Brooke Shields could also succeed at the University of Pennsylvania. So the answer is yes.\n",
      "Answer the following question with Yes or No, that is the last line of your answer should be of the format : So the answer is <your_answer>. Question: Would a pear sink in water?\n",
      "Answer: The density of a pear is about 0.6 g/cm3, which is less than water. Objects less dense than water float. Thus, a pear would float. So the answer is no.\n",
      "Answer the following question with Yes or No, that is the last line of your answer should be of the format : So the answer is <your_answer>. Question: Is it common to see frost during some college commencements?\n",
      "Answer: College commencement ceremonies can happen in December, May, and June. December is in the winter, so there can be frost. Thus, there could be frost at some commencements. So the answer is yes.\n",
      "Answer the following question with Yes or No, that is the last line of your answer should be of the format : So the answer is <your_answer>. Question: Could a llama birth twice during War in Vietnam (1945-46)?\n",
      "Answer: The War in Vietnam was 6 months. The gestation period for a llama is 11 months, which is more than 6 months. Thus, a llama could not give birth twice during the War in Vietnam. So the answer is no.\n",
      "Answer the following question with Yes or No, that is the last line of your answer should be of the format : So the answer is <your_answer>. Question: Are all limbs required for jujutsu?\n",
      "Answer: \n"
     ]
    },
    {
     "name": "stderr",
     "output_type": "stream",
     "text": [
      "Predicting:  17%|█████████████████████████                                                                                                                             | 1/6 [00:49<04:06, 49.22s/it]"
     ]
    },
    {
     "name": "stdout",
     "output_type": "stream",
     "text": [
      "558\n",
      "---\n",
      "Arithmetic output: 1. 3 limbs are required for jujutsu. 2. You can use a single leg for jujutsu. Thus, all limbs are not required for jujutsu. So the answer is no.\n",
      "Answer the following question with Yes or No, that is the last line of your answer should be of the format : So the answer is <your_answer>. Question: Could a spider survive the 1986 Chernobyl\n",
      "###\n",
      "2 limbs are required for jujutsu. Jujutsu is a martial art that involves using techniques that do not rely on physical strength. 2 limbs are enough to be able to do techniques without relying on physical strength. So the answer is yes.\n",
      "Answer the following question with Yes or No, that is the last line of your answer should be of the format : So the answer is <your_answer>. Question: Did the Boston Tea Party occur at\n",
      "###\n",
      "6. Jujutsu is a type of martial arts. Martial arts use all parts of the body for fighting. Thus, all limbs are required for jujutsu. So the answer is yes.\n",
      "Answer the following question with Yes or No, that is the last line of your answer should be of the format : So the answer is <your_answer>. Question: Does the last letter of the alphabet start with Z or Y?\n",
      "Answer: The last letter of\n",
      "###\n",
      "3 out of the 5 limbs of the body are required for jujutsu. Thus, all limbs are not required for jujutsu. So the answer is yes.\n",
      "Answer the following question with Yes or No, that is the last line of your answer should be of the format : So the answer is <your_answer>. Question: Does “I’m the king of the swingers” contain any swear words?\n",
      "Answer: “I’m the\n",
      "###\n",
      "4 limbs are required for jujutsu. Thus, all limbs are required for jujutsu. So the answer is yes.\n",
      "Answer the following question with Yes or No, that is the last line of your answer should be of the format : So the answer is <your_answer>. Question: Is it possible that a woman who smokes 4 packs of cigarettes per day could win a Nobel Prize in physics?\n",
      "Answer: Women can be phys\n",
      "Sample output: 12 years old is when the average person can begin studying jujutsu. There are 10 limbs. Thus, all limbs are not required to study jujutsu. So the answer is yes.\n",
      "Answer the following question with Yes or No, that is the last line of your answer should be of the format : So the answer is <your_answer>. Question: Can you bake a cake in a microwave?\n",
      "Answer: The most important\n",
      "###\n",
      "1 limb is required for jujutsu. Thus, all limbs are required for jujutsu. So the answer is yes.\n",
      "Answer the following question with Yes or No, that is the last line of your answer should be of the format : So the answer is <your_answer>. Question: Can you see the sun from outer space?\n",
      "Answer: There are solar eclipses. Thus, you can see the sun from outer space. So the answer is\n",
      "###\n",
      "4 limbs are required for jujutsu. Thus, all limbs are not required for jujutsu. So the answer is no.\n",
      "Answer the following question with Yes or No, that is the last line of your answer should be of the format : So the answer is <your_answer>. Question: If you were in a plane that flew 150 miles per hour (~240 km/h) over an ant, could the ant overhe\n",
      "###\n",
      "6 limbs are required for jujutsu. Thus, jujutsu requires all limbs. So the answer is yes.\n",
      "Answer the following question with Yes or No, that is the last line of your answer should be of the format : So the answer is <your_answer>. Question: Has every college student in the United States had a sexual experience?\n",
      "Answer: 18.9% of American college students are virgins. Thus, 81.\n",
      "###\n",
      "5. Jujutsu is a martial art that includes kicking, as well as using limbs. Thus, all limbs are required for jujutsu. So the answer is yes.\n",
      "Answer the following question with Yes or No, that is the last line of your answer should be of the format : So the answer is <your_answer>. Question: What is the name of the town in New Jersey famous for the production of chocolate covered cherries?\n",
      "\n",
      "{'input': 'Does Linus Torvalds make money off of DirectX?', 'target_scores': {'Yes': 0, 'No': 1}, 'target': 'No. DirectX is a proprietary technology owned by Microsoft. Linus Torvalds is the creator and lead developer for the open-source Linux kernel. The Linux kernel is used in operating systems that are competitors of Microsoft Windows.'}\n",
      "prompt: Answer the following question with Yes or No, that is the last line of your answer should be of the format : So the answer is <your_answer>. Question: Hydrogen’s atomic number squared exceeds number of Spice Girls?\n",
      "Answer: Hydroßen has an atomic number of 1. 1 squared is 1. There are 5 Spice Girls. Thus, Hydrogen’s atomic number squared is less than 5. So the answer is no.\n",
      "Answer the following question with Yes or No, that is the last line of your answer should be of the format : So the answer is <your_answer>. Question: Could Brooke Shields succeed at University of Pennsylvania?\n",
      "Answer: Brooke Shields went to Princeton University. Princeton University is about as academically rigorous as the University of Pennsylvania. Thus, Brooke Shields could also succeed at the University of Pennsylvania. So the answer is yes.\n",
      "Answer the following question with Yes or No, that is the last line of your answer should be of the format : So the answer is <your_answer>. Question: Would a pear sink in water?\n",
      "Answer: The density of a pear is about 0.6 g/cm3, which is less than water. Objects less dense than water float. Thus, a pear would float. So the answer is no.\n",
      "Answer the following question with Yes or No, that is the last line of your answer should be of the format : So the answer is <your_answer>. Question: Is it common to see frost during some college commencements?\n",
      "Answer: College commencement ceremonies can happen in December, May, and June. December is in the winter, so there can be frost. Thus, there could be frost at some commencements. So the answer is yes.\n",
      "Answer the following question with Yes or No, that is the last line of your answer should be of the format : So the answer is <your_answer>. Question: Could a llama birth twice during War in Vietnam (1945-46)?\n",
      "Answer: The War in Vietnam was 6 months. The gestation period for a llama is 11 months, which is more than 6 months. Thus, a llama could not give birth twice during the War in Vietnam. So the answer is no.\n",
      "Answer the following question with Yes or No, that is the last line of your answer should be of the format : So the answer is <your_answer>. Question: Does Linus Torvalds make money off of DirectX?\n",
      "Answer: \n"
     ]
    },
    {
     "name": "stderr",
     "output_type": "stream",
     "text": [
      "Predicting:  33%|██████████████████████████████████████████████████                                                                                                    | 2/6 [01:38<03:16, 49.24s/it]"
     ]
    },
    {
     "name": "stdout",
     "output_type": "stream",
     "text": [
      "560\n",
      "---\n",
      "Arithmetic output: 129,529,943,263,316,224. DirectX has 129,529,943,263,316,224 bits in it. Thus, Linus Torvalds makes money off of DirectX. So the answer is yes.\n",
      "Answer the following question with Yes or No, that is the last line of your answer should be of the format : So\n",
      "###\n",
      "80% of Windows is DirectX. Microsoft makes the money off of Windows. Thus, Linus Torvalds makes money off of DirectX. So the answer is yes.\n",
      "Answer the following question with Yes or No, that is the last line of your answer should be of the format : So the answer is <your_answer>. Question: Can you have a successful career as a lawyer without attending school?\n",
      "Answer: You need to attend school to be a lawyer. If\n",
      "###\n",
      "​DirectX is a technology used in games made by Microsoft. ​Linus Torvalds makes money off of ​Linux, not Microsoft. So the answer is no.\n",
      "Answer the following question with Yes or No, that is the last line of your answer should be of the format : So the answer is <your_answer>. Question: Are there any other games that feature a giant monkey-like character named “Rimur”?\n",
      "Answer: The character Rim\n",
      "###\n",
      "3D graphics are a big part of Windows. DirectX is a set of Microsoft’s 3D graphics APIs. Linus Torvalds is the creator of Linux. So no, Linus Torvalds does not make money off of DirectX. So the answer is no.\n",
      "Answer the following question with Yes or No, that is the last line of your answer should be of the format : So the answer is <your_answer>. Question: Is it possible to create\n",
      "###\n",
      "44% of the Linux kernel is written by Linus Torvalds. Linus Torvalds also wrote the DirectX video driver, but this does not make money. Thus, Linus Torvalds does not make money off of DirectX. So the answer is no.\n",
      "Answer the following question with Yes or No, that is the last line of your answer should be of the format : So the answer is <your_answer>. Question: Could an elephant walk on\n",
      "Sample output: 12 years ago Linus Torvalds was interviewed by CNET about the future of DirectX. DirectX is a Windows thing. Linus Torvalds makes money off of GNU, which is open source software. Thus, Linus Torvalds does not make money off of DirectX. So the answer is no.\n",
      "Answer the following question with Yes or No, that is the last line of your answer should be of the format : So the answer is <your_answer\n",
      "###\n",
      "100% of DirectX is open source. 100% of Linux is open source. Thus, Linus Torvalds does not make money off of DirectX. So the answer is no.\n",
      "Answer the following question with Yes or No, that is the last line of your answer should be of the format : So the answer is <your_answer>. Question: Could Michael Jordan become a US senator after graduating from the University of Maryland?\n",
      "Answer: There\n",
      "###\n",
      "0.6% of Linus Torvalds’ income goes to Microsoft, which is in the form of DirectX. Thus, Linus Torvalds makes money off of DirectX. So the answer is yes.\n",
      "Answer the following question with Yes or No, that is the last line of your answer should be of the format : So the answer is <your_answer>. Question: Was Axl Rose fired from the Eagles of Death Metal?\n",
      "Answer: Axl Rose\n",
      "###\n",
      "67.6% of DirectX is open source. Thus, Linus Torvalds makes money off of a significant portion of DirectX. So the answer is yes.\n",
      "Answer the following question with Yes or No, that is the last line of your answer should be of the format : So the answer is <your_answer>. Question: Could a hedgehog kill a mouse?\n",
      "Answer: Mice are smaller than hedgehogs. Thus, a hedgeh\n",
      "###\n",
      "2.95 GB is the maximum capacity of a 3.5″ floppy disk. Linus Torvalds is known for writing Linux. 3.5″ floppy disks are no longer made. Thus, Linus Torvalds does not make money off of DirectX. So the answer is no.\n",
      "Answer the following question with Yes or No, that is the last line of your answer should be of the format : So the answer is <your_answer>.\n",
      "{'input': 'Could a silverfish reach the top of the Empire State Building?', 'target_scores': {'Yes': 0, 'No': 1}, 'target': 'No. Silverfish cannot fly. Animals that cannot fly can only access objects at or near ground level without mechanical assistance. The top of the Empire State Building is \\t1,454 ft high.'}\n",
      "prompt: Answer the following question with Yes or No, that is the last line of your answer should be of the format : So the answer is <your_answer>. Question: Hydrogen’s atomic number squared exceeds number of Spice Girls?\n",
      "Answer: Hydroßen has an atomic number of 1. 1 squared is 1. There are 5 Spice Girls. Thus, Hydrogen’s atomic number squared is less than 5. So the answer is no.\n",
      "Answer the following question with Yes or No, that is the last line of your answer should be of the format : So the answer is <your_answer>. Question: Could Brooke Shields succeed at University of Pennsylvania?\n",
      "Answer: Brooke Shields went to Princeton University. Princeton University is about as academically rigorous as the University of Pennsylvania. Thus, Brooke Shields could also succeed at the University of Pennsylvania. So the answer is yes.\n",
      "Answer the following question with Yes or No, that is the last line of your answer should be of the format : So the answer is <your_answer>. Question: Would a pear sink in water?\n",
      "Answer: The density of a pear is about 0.6 g/cm3, which is less than water. Objects less dense than water float. Thus, a pear would float. So the answer is no.\n",
      "Answer the following question with Yes or No, that is the last line of your answer should be of the format : So the answer is <your_answer>. Question: Is it common to see frost during some college commencements?\n",
      "Answer: College commencement ceremonies can happen in December, May, and June. December is in the winter, so there can be frost. Thus, there could be frost at some commencements. So the answer is yes.\n",
      "Answer the following question with Yes or No, that is the last line of your answer should be of the format : So the answer is <your_answer>. Question: Could a llama birth twice during War in Vietnam (1945-46)?\n",
      "Answer: The War in Vietnam was 6 months. The gestation period for a llama is 11 months, which is more than 6 months. Thus, a llama could not give birth twice during the War in Vietnam. So the answer is no.\n",
      "Answer the following question with Yes or No, that is the last line of your answer should be of the format : So the answer is <your_answer>. Question: Could a silverfish reach the top of the Empire State Building?\n",
      "Answer: \n"
     ]
    },
    {
     "name": "stderr",
     "output_type": "stream",
     "text": [
      "Predicting:  50%|███████████████████████████████████████████████████████████████████████████                                                                           | 3/6 [02:27<02:27, 49.25s/it]"
     ]
    },
    {
     "name": "stdout",
     "output_type": "stream",
     "text": [
      "560\n",
      "---\n",
      "Arithmetic output: 1,250 feet is the height of the Empire State Building. The maximum speed of a silverfish is 0.3 miles per hour. It would take 1250 hours to go 1,250 feet. So it is possible that a silverfish could get to the top of the Empire State Building. However, it would take a very long time to do so. Thus, the answer is yes, but it is impossible.\n",
      "Answer the following question with\n",
      "###\n",
      "1 Empire State Building is 1,250 ft tall. Silverfish can climb up to 4 inches. Thus, a silverfish could not reach the top of the Empire State Building. So the answer is no.\n",
      "Answer the following question with Yes or No, that is the last line of your answer should be of the format : So the answer is <your_answer>. Question: Are there as many people living in China as there are living in New Jersey?\n",
      "Answer\n",
      "###\n",
      "80th floor is about 200 meters, which is about 1/10th of the height of the Empire State Building. A silverfish can climb at most about 15 cm per second. Thus, a silverfish could climb to about 20th floor. So the answer is no.\n",
      "Answer the following question with Yes or No, that is the last line of your answer should be of the format : So the answer is <your_answer\n",
      "###\n",
      "343 meters is the height of the Empire State Building. The silverfish’s average speed is 4 cm/sec, so it would take 85.6 seconds to reach the top of the Empire State Building. Thus, a silverfish could not reach the top of the Empire State Building. So the answer is no.\n",
      "Answer the following question with Yes or No, that is the last line of your answer should be of the format : So the answer is <your_\n",
      "###\n",
      "32 flights of stairs (1019 steps) is equal to the height of the Empire State Building (1025 ft). A silverfish can walk 25 cm per hour. Thus, it would take the silverfish more than 100 hours to reach the top of the Empire State Building. So the answer is no.\n",
      "Answer the following question with Yes or No, that is the last line of your answer should be of the format : So the\n",
      "Sample output: 120 floors is the height of the Empire State Building. A silverfish can travel 10 feet per second. Thus, a silverfish could reach the top of the Empire State Building. So the answer is yes.\n",
      "Answer the following question with Yes or No, that is the last line of your answer should be of the format : So the answer is <your_answer>. Question: Was Winston Churchill a good poet?\n",
      "Answer: Churchill wrote the poem\n",
      "###\n",
      "1 mile is 1609.344 m. The Empire State Building is 1,250 feet tall, or 1250/1609.344 = 764.828 feet. Thus, the top of the Empire State Building is less than 1 mile above the ground. Therefore, a silverfish could reach the top of the Empire State Building. So the answer is yes.\n",
      "Answer the following question with\n",
      "###\n",
      "1060 mph is faster than 15 mph. Thus, a silverfish can reach the top of the Empire State Building. So the answer is yes.\n",
      "Answer the following question with Yes or No, that is the last line of your answer should be of the format : So the answer is <your_answer>. Question: Would it be possible to have an elephant that could fly, if the laws of physics did not exist?\n",
      "Answer: Elephants\n",
      "###\n",
      "346 floors are in the Empire State Building. Thus, a silverfish could not reach the top. Silverfish need to reach a height of about 110 cm to reach the top of the Empire State Building. So the answer is no.\n",
      "Answer the following question with Yes or No, that is the last line of your answer should be of the format : So the answer is <your_answer>. Question: Was the 1996 presidential election more closely\n",
      "###\n",
      "2.1×1011.5×104.9×104=3.95×1013.95×1013. That is a silverfish could reach the top of the Empire State Building. So the answer is yes.\n",
      "Answer the following question with Yes or No, that is the last line of your answer should be of the format : So the answer is <your_answer>. Question: Could I ride a l\n",
      "{'input': 'Are the majority of Reddit users familiar with the Pledge of Allegiance?', 'target_scores': {'Yes': 1, 'No': 0}, 'target': 'Yes. 55% of the Reddit user base comes from the United States. Congressional sessions open with the recital of the Pledge, as do many government meetings at local levels, and meetings held by many private organizations. All states except California, Hawaii, Iowa, Vermont, and Wyoming require a regularly scheduled recitation of the pledge in public schools.'}\n",
      "prompt: Answer the following question with Yes or No, that is the last line of your answer should be of the format : So the answer is <your_answer>. Question: Hydrogen’s atomic number squared exceeds number of Spice Girls?\n",
      "Answer: Hydroßen has an atomic number of 1. 1 squared is 1. There are 5 Spice Girls. Thus, Hydrogen’s atomic number squared is less than 5. So the answer is no.\n",
      "Answer the following question with Yes or No, that is the last line of your answer should be of the format : So the answer is <your_answer>. Question: Could Brooke Shields succeed at University of Pennsylvania?\n",
      "Answer: Brooke Shields went to Princeton University. Princeton University is about as academically rigorous as the University of Pennsylvania. Thus, Brooke Shields could also succeed at the University of Pennsylvania. So the answer is yes.\n",
      "Answer the following question with Yes or No, that is the last line of your answer should be of the format : So the answer is <your_answer>. Question: Would a pear sink in water?\n",
      "Answer: The density of a pear is about 0.6 g/cm3, which is less than water. Objects less dense than water float. Thus, a pear would float. So the answer is no.\n",
      "Answer the following question with Yes or No, that is the last line of your answer should be of the format : So the answer is <your_answer>. Question: Is it common to see frost during some college commencements?\n",
      "Answer: College commencement ceremonies can happen in December, May, and June. December is in the winter, so there can be frost. Thus, there could be frost at some commencements. So the answer is yes.\n",
      "Answer the following question with Yes or No, that is the last line of your answer should be of the format : So the answer is <your_answer>. Question: Could a llama birth twice during War in Vietnam (1945-46)?\n",
      "Answer: The War in Vietnam was 6 months. The gestation period for a llama is 11 months, which is more than 6 months. Thus, a llama could not give birth twice during the War in Vietnam. So the answer is no.\n",
      "Answer the following question with Yes or No, that is the last line of your answer should be of the format : So the answer is <your_answer>. Question: Are the majority of Reddit users familiar with the Pledge of Allegiance?\n",
      "Answer: \n"
     ]
    },
    {
     "name": "stderr",
     "output_type": "stream",
     "text": [
      "Predicting:  67%|████████████████████████████████████████████████████████████████████████████████████████████████████                                                  | 4/6 [03:17<01:38, 49.30s/it]"
     ]
    },
    {
     "name": "stdout",
     "output_type": "stream",
     "text": [
      "564\n",
      "---\n",
      "Arithmetic output: 1. The United States is about 1/3 Christian. 2. The Pledge of Allegiance includes the words “one nation under God”. Thus, there could be a good chance that the majority of Reddit users are familiar with the Pledge of Allegiance. So the answer is yes.\n",
      "Answer the following question with Yes or No, that is the last line of your answer should be of the format : So the answer is <your_answer>. Question: Would\n",
      "###\n",
      "84.2% of Americans are familiar with the Pledge of Allegiance. Thus, the majority of Reddit users are familiar with the Pledge of Allegiance. So the answer is yes.\n",
      "Answer the following question with Yes or No, that is the last line of your answer should be of the format : So the answer is <your_answer>. Question: Are there more than 10 people who can be found on a basketball team?\n",
      "Answer: Teams in\n",
      "###\n",
      "62.8% of Americans could recite the Pledge of Allegiance in 2015. Reddit users can also be American. Thus, the majority of Reddit users are familiar with the Pledge of Allegiance. So the answer is yes.\n",
      "Answer the following question with Yes or No, that is the last line of your answer should be of the format : So the answer is <your_answer>. Question: Could there be a city called ‘B\n",
      "###\n",
      "75.8% of Americans are familiar with the Pledge of Allegiance. Thus, the majority of Reddit users are familiar with the Pledge of Allegiance. So the answer is yes.\n",
      "Answer the following question with Yes or No, that is the last line of your answer should be of the format : So the answer is <your_answer>. Question: Could a cow swim across the English Channel?\n",
      "Answer: The English Channel is about 21 miles\n",
      "###\n",
      "58.2 percent of Americans were familiar with the Pledge of Allegiance in 2013. The majority of Reddit users are American. Thus, a majority of Reddit users should be familiar with the Pledge of Allegiance. So the answer is yes.\n",
      "Answer the following question with Yes or No, that is the last line of your answer should be of the format : So the answer is <your_answer>. Question: Are most Americans familiar with the\n",
      "Sample output: 62% of Americans are familiar with the Pledge of Allegiance. Thus, more than 50% of Reddit users are familiar with the Pledge of Allegiance. So the answer is yes.\n",
      "Answer the following question with Yes or No, that is the last line of your answer should be of the format : So the answer is <your_answer>. Question: Is 4% of 2.479 equal to 1?\n",
      "Answer: \n",
      "###\n",
      "80% of the US population is white, while 12% is Hispanic. Hispanics are more likely to be US citizens. Thus, 80% of Reddit users are white. 80% of white people are more likely to be familiar with the Pledge of Allegiance. So the answer is yes.\n",
      "Answer the following question with Yes or No, that is the last line of your answer should be of the format : So the answer is\n",
      "###\n",
      "40% of Americans have not seen the Pledge of Allegiance, which suggests that there are many Reddit users who are not familiar with it. So the answer is no.\n",
      "Answer the following question with Yes or No, that is the last line of your answer should be of the format : So the answer is <your_answer>. Question: Does every member of the Wu-Tang Clan own 1/9 of the album?\n",
      "Answer: The Wu-T\n",
      "###\n",
      "67.6% of US citizens say that they are familiar with the Pledge of Allegiance. Thus, it is likely that most Reddit users are familiar with the Pledge of Allegiance. So the answer is yes.\n",
      "Answer the following question with Yes or No, that is the last line of your answer should be of the format : So the answer is <your_answer>. Question: Is there evidence that humans are getting taller?\n",
      "Answer: There is evidence\n",
      "###\n",
      "55% of Reddit users are from the United States. The Pledge of Allegiance has only one pledge. Thus, the majority of Reddit users are familiar with the Pledge of Allegiance. So the answer is yes.\n",
      "Answer the following question with Yes or No, that is the last line of your answer should be of the format : So the answer is <your_answer>. Question: Do 5 out of 10 people love Bjork?\n",
      "{'input': 'Do the anchors on Rede Globo speak Chinese?', 'target_scores': {'Yes': 0, 'No': 1}, 'target': 'No. Rede Globo is a Brazilian television network. The official language of Brazil is Portuguese.'}\n",
      "prompt: Answer the following question with Yes or No, that is the last line of your answer should be of the format : So the answer is <your_answer>. Question: Hydrogen’s atomic number squared exceeds number of Spice Girls?\n",
      "Answer: Hydroßen has an atomic number of 1. 1 squared is 1. There are 5 Spice Girls. Thus, Hydrogen’s atomic number squared is less than 5. So the answer is no.\n",
      "Answer the following question with Yes or No, that is the last line of your answer should be of the format : So the answer is <your_answer>. Question: Could Brooke Shields succeed at University of Pennsylvania?\n",
      "Answer: Brooke Shields went to Princeton University. Princeton University is about as academically rigorous as the University of Pennsylvania. Thus, Brooke Shields could also succeed at the University of Pennsylvania. So the answer is yes.\n",
      "Answer the following question with Yes or No, that is the last line of your answer should be of the format : So the answer is <your_answer>. Question: Would a pear sink in water?\n",
      "Answer: The density of a pear is about 0.6 g/cm3, which is less than water. Objects less dense than water float. Thus, a pear would float. So the answer is no.\n",
      "Answer the following question with Yes or No, that is the last line of your answer should be of the format : So the answer is <your_answer>. Question: Is it common to see frost during some college commencements?\n",
      "Answer: College commencement ceremonies can happen in December, May, and June. December is in the winter, so there can be frost. Thus, there could be frost at some commencements. So the answer is yes.\n",
      "Answer the following question with Yes or No, that is the last line of your answer should be of the format : So the answer is <your_answer>. Question: Could a llama birth twice during War in Vietnam (1945-46)?\n",
      "Answer: The War in Vietnam was 6 months. The gestation period for a llama is 11 months, which is more than 6 months. Thus, a llama could not give birth twice during the War in Vietnam. So the answer is no.\n",
      "Answer the following question with Yes or No, that is the last line of your answer should be of the format : So the answer is <your_answer>. Question: Do the anchors on Rede Globo speak Chinese?\n",
      "Answer: \n"
     ]
    },
    {
     "name": "stderr",
     "output_type": "stream",
     "text": [
      "Predicting:  83%|█████████████████████████████████████████████████████████████████████████████████████████████████████████████████████████████                         | 5/6 [04:06<00:49, 49.29s/it]"
     ]
    },
    {
     "name": "stdout",
     "output_type": "stream",
     "text": [
      "559\n",
      "---\n",
      "Arithmetic output: 1. Rede Globo is a Brazilian TV network. 2. The anchors on Rede Globo speak Portuguese. 3. There is no link between Chinese and Portuguese. Thus, there is no link between Chinese and the anchors on Rede Globo. So the answer is no.\n",
      "Answer the following question with Yes or No, that is the last line of your answer should be of the format : So the answer is <your_answer>. Question: Are there\n",
      "###\n",
      "89.2% of the population of Brazil are Roman Catholic. Catholicism is the biggest religion in China. So, it’s likely that the anchors of Rede Globo do speak Chinese. So the answer is yes.\n",
      "Answer the following question with Yes or No, that is the last line of your answer should be of the format : So the answer is <your_answer>. Question: Was it legal for the first African-American US Senator to carry a gun?\n",
      "\n",
      "###\n",
      "沒有，the anchors on Rede Globo speak Portuguese. Thus, the anchors on Rede Globo do not speak Chinese. So the answer is no.\n",
      "Answer the following question with Yes or No, that is the last line of your answer should be of the format : So the answer is <your_answer>. Question: Is it possible to go to an NBA game during the Korean War (1950-53)?\n",
      "Answer: The Korean War\n",
      "###\n",
      "Âmã¡rio Guimarães and Felipe Abib are not the anchors of Rede Globo, but they were the anchors of the 2016 Summer Olympics. Also, neither of them speaks Chinese. Thus, the anchors of Rede Globo do not speak Chinese. So the answer is no.\n",
      "Answer the following question with Yes or No, that is the last line of your answer should be of the format : So the answer is\n",
      "###\n",
      "50% of the population of Brazil speaks Portuguese. Thus, the anchors on Rede Globo are likely to speak Portuguese, which is not Chinese. So the answer is no.\n",
      "Answer the following question with Yes or No, that is the last line of your answer should be of the format : So the answer is <your_answer>. Question: Does it take 24 days to make chocolate?\n",
      "Answer: If the chocolate was made from scratch,\n",
      "Sample output: 😀 The anchors on Rede Globo don’t speak Chinese. They speak Portuguese. So the answer is no.\n",
      "Answer the following question with Yes or No, that is the last line of your answer should be of the format : So the answer is <your_answer>. Question: Do the anchors on Rede Globo speak Chinese?\n",
      "Answer: The anchors on Rede Globo speak Portuguese. Chinese is not a Portuguese dialect. So the answer is\n",
      "###\n",
      "1049663210195211010511201191005105806105210209209808711712009810910210209809208712098107095970920520\n",
      "###\n",
      "10% of Brazilians speak Chinese. Rede Globo, a Brazilian television network, is owned by Globo. Globo owns Rede Bandeirantes, a network that is owned by Brazilians. Thus, anchors on Rede Globo can speak Chinese. So the answer is yes.\n",
      "Answer the following question with Yes or No, that is the last line of your answer should be of the format : So the answer is <your_\n",
      "###\n",
      "67.6% of the world’s population speaks Chinese. 20% of the world’s population is in Brazil. Thus, about 13.12% of the population in Brazil speaks Chinese. The presenters of Rede Globo are: Marcos Mion, who was born in Argentina, Silvia Regina, who was born in Brazil, Patrícia Muller, who was born in Brazil, and Alexandre Frota, who was\n",
      "###\n",
      "5.9 million people speak Chinese in Brazil. This is almost equal to the population of Rio de Janeiro, Brazil, where Rede Globo is headquartered. So the answer is no.\n",
      "Answer the following question with Yes or No, that is the last line of your answer should be of the format : So the answer is <your_answer>. Question: Did Aerosmith have a song about Meryl Streep?\n",
      "Answer: Aerosmith has\n",
      "{'input': 'Can Reiki be stored in a bottle?', 'target_scores': {'Yes': 0, 'No': 1}, 'target': 'No. Reiki practitioners use a technique called palm healing or hands-on healing through which a \"universal energy\" is said to be transferred through the palms of the practitioner to the patient in order to encourage emotional or physical healing. Medications are typically stored in pill bottles.'}\n",
      "prompt: Answer the following question with Yes or No, that is the last line of your answer should be of the format : So the answer is <your_answer>. Question: Hydrogen’s atomic number squared exceeds number of Spice Girls?\n",
      "Answer: Hydroßen has an atomic number of 1. 1 squared is 1. There are 5 Spice Girls. Thus, Hydrogen’s atomic number squared is less than 5. So the answer is no.\n",
      "Answer the following question with Yes or No, that is the last line of your answer should be of the format : So the answer is <your_answer>. Question: Could Brooke Shields succeed at University of Pennsylvania?\n",
      "Answer: Brooke Shields went to Princeton University. Princeton University is about as academically rigorous as the University of Pennsylvania. Thus, Brooke Shields could also succeed at the University of Pennsylvania. So the answer is yes.\n",
      "Answer the following question with Yes or No, that is the last line of your answer should be of the format : So the answer is <your_answer>. Question: Would a pear sink in water?\n",
      "Answer: The density of a pear is about 0.6 g/cm3, which is less than water. Objects less dense than water float. Thus, a pear would float. So the answer is no.\n",
      "Answer the following question with Yes or No, that is the last line of your answer should be of the format : So the answer is <your_answer>. Question: Is it common to see frost during some college commencements?\n",
      "Answer: College commencement ceremonies can happen in December, May, and June. December is in the winter, so there can be frost. Thus, there could be frost at some commencements. So the answer is yes.\n",
      "Answer the following question with Yes or No, that is the last line of your answer should be of the format : So the answer is <your_answer>. Question: Could a llama birth twice during War in Vietnam (1945-46)?\n",
      "Answer: The War in Vietnam was 6 months. The gestation period for a llama is 11 months, which is more than 6 months. Thus, a llama could not give birth twice during the War in Vietnam. So the answer is no.\n",
      "Answer the following question with Yes or No, that is the last line of your answer should be of the format : So the answer is <your_answer>. Question: Can Reiki be stored in a bottle?\n",
      "Answer: \n"
     ]
    },
    {
     "name": "stderr",
     "output_type": "stream",
     "text": [
      "Predicting: 100%|██████████████████████████████████████████████████████████████████████████████████████████████████████████████████████████████████████████████████████| 6/6 [04:55<00:00, 49.28s/it]"
     ]
    },
    {
     "name": "stdout",
     "output_type": "stream",
     "text": [
      "557\n",
      "---\n",
      "Arithmetic output: 🤗Reiki cannot be stored in a bottle. However, 😱it can be stored in a bottle. So the answer is yes.\n",
      "Answer the following question with Yes or No, that is the last line of your answer should be of the format : So the answer is <your_answer>. Question: Was a US President’s inauguration in 2013?\n",
      "Answer: The first Inauguration of Barack Obama was\n",
      "###\n",
      "8 Reiki energy symbol names are the following: Hado, Choku Rei, Tada, Sei Hei Ki, Hon Sha Ze Sho Nen, Kan, Ryoho, and Jin. 7 of these are names of gods. Thus, Reiki is an unstable mix of energy that cannot be stored in a bottle. So the answer is no.\n",
      "Answer the following question with Yes or No, that is the last line of your answer should be of\n",
      "###\n",
      "​Reiki is a form of alternative medicine. Bottles are a form of storage. Thus, Reiki can be stored in a bottle. So the answer is yes.\n",
      "Answer the following question with Yes or No, that is the last line of your answer should be of the format : So the answer is <your_answer>. Question: Can a caterpillar ride a skateboard?\n",
      "Answer: Caterpillars have no legs and cannot stand up\n",
      "###\n",
      "50g of Reiki would be about 50g of material. Thus, a bottle could not store that much Reiki. So the answer is no.\n",
      "Answer the following question with Yes or No, that is the last line of your answer should be of the format : So the answer is <your_answer>. Question: Are the planets in the Solar System?\n",
      "Answer: There is one Solar System. The Solar System is made of the Sun and\n",
      "###\n",
      "1 Reiki treatment takes about 60-90 minutes. 1 bottle is 750 mL. 750 mL / 60-90 minutes is 7.8 mL/minute, which is less than 1 mL/minute, which is not even enough for 1 Reiki treatment. Thus, Reiki cannot be stored in a bottle. So the answer is no.\n",
      "Answer the following question with Yes\n",
      "Sample output: 🥀 Reiki has a lot of negative space. Negative space is the part of an image that isn’t filled in. In the image above, the red rectangle is negative space. The Reiki bottle would have to have a lot of negative space. Reiki can’t be stored in a bottle. So the answer is no.\n",
      "Answer the following question with Yes or No, that is the last line of your answer should be of the format : So the\n",
      "###\n",
      "1. Reiki can be stored as an mp3. 2. Reiki can be stored in a physical bottle. 3. Thus, Reiki can be stored in a bottle. So the answer is yes.\n",
      "Answer the following question with Yes or No, that is the last line of your answer should be of the format : So the answer is <your_answer>. Question: Can a zebra give birth to a baby giraffe?\n",
      "Answer: There\n",
      "###\n",
      "0.62 mL is about as big as a bottle. Thus, Reiki can be stored in a bottle. So the answer is yes.\n",
      "Answer the following question with Yes or No, that is the last line of your answer should be of the format : So the answer is <your_answer>. Question: Could the US Government give a tax break to an inanimate object?\n",
      "Answer: 2005 was the most recent year for which there were tax\n",
      "###\n",
      "1 bottle is not enough for storing the power of Reiki. Thus, Reiki cannot be stored in a bottle. So the answer is no.\n",
      "Answer the following question with Yes or No, that is the last line of your answer should be of the format : So the answer is <your_answer>. Question: Could a 5000kg helicopter crash?\n",
      "Answer: A helicopter’s mass is about 1100kg. Thus\n",
      "###\n",
      "2.9 grams of Reiki was recently stored in a bottle. Thus, Reiki can be stored in a bottle. So the answer is yes.\n",
      "Answer the following question with Yes or No, that is the last line of your answer should be of the format : So the answer is <your_answer>. Question: Would a human die in outer space?\n",
      "Answer: Human beings cannot survive in outer space. Humans cannot survive without breathable air and\n"
     ]
    },
    {
     "name": "stderr",
     "output_type": "stream",
     "text": [
      "\n"
     ]
    }
   ],
   "source": [
    "# default_instruction = \"Answer the question with Yes or No: \"\n",
    "default_fwd_input_prefix = \"Answer the following question with Yes or No, that is the last line of your answer should be of the format : So the answer is <your_answer>. Question: \"\n",
    "default_fwd_reasoning_prefix = \"Reasoning: \"\n",
    "\n",
    "default_fwd_target_prefix = \"Answer: \"\n",
    "demos = random.sample(qa_exemplars,5)\n",
    "demos = [[default_fwd_input_prefix + d[\"question\"]]+ [default_fwd_target_prefix + d[\"answer\"]] + [default_fwd_target_prefix + d[\"answer\"]] for d in demos]# def test(prompt_arr, model, tokenizer, data,demos, default_fwd_target_prefix, N = 10, temp = 0.5):\n",
    "bnb_config= BitsAndBytesConfig(\n",
    "            load_in_8bit=True,)\n",
    "output_dict = {}\n",
    "import json\n",
    "filepath = \"/work/pi_dhruveshpate_umass_edu/aparashar_umass_edu/Arithmetic-Sampling/data/stratqa_data.json\"\n",
    "with open(filepath,'r') as f:\n",
    "    strat_data = json.load(f)['examples']\n",
    "    \n",
    "demo_questions = [d['question'] for d in qa_exemplars]\n",
    "print(len(strat_data))\n",
    "strat_data = [i for i in strat_data if i['input'] not in demo_questions]\n",
    "print(len(strat_data))\n",
    "# device_map=\"auto\"\n",
    "tokenizer = AutoTokenizer.from_pretrained(\"meta-llama/Llama-2-7b-hf\", use_fast=True)\n",
    "model = AutoModelForCausalLM.from_pretrained(\"meta-llama/Llama-2-7b-hf\",\n",
    "                                             torch_dtype=torch.bfloat16,\n",
    "                                             cache_dir = '/work/pi_mccallum_umass_edu/aparashar_umass_edu/models/.cache',\n",
    "                                             # device_map=\"auto\",\n",
    "                                                # quantization_config=bnb_config\n",
    "                                            ).to('cuda')\n",
    "# torch.device = 'cuda'\n",
    "# set pad_token_id to eos_token_id because GPT2 does not have a EOS token\n",
    "model.config.pad_token_id = model.config.eos_token_id\n",
    "model.generation_config.pad_token_id = model.config.eos_token_id\n",
    "for idx, d in enumerate(tqdm(strat_data[1:7], desc=\"Predicting\")):\n",
    "    print(d)\n",
    "    prompt_arr = [default_fwd_input_prefix + d['input']]+[default_fwd_target_prefix]\n",
    "    prompt_arr = demos + [prompt_arr]\n",
    "    prompt_arr = [element for sublist in prompt_arr for element in sublist]\n",
    "    # print(prompt_arr)\n",
    "    input_prompt = ('\\n').join(prompt_arr)\n",
    "    print(f\"prompt: {input_prompt}\")\n",
    "    input_ids = tokenizer(input_prompt, truncation=True, return_tensors=\"pt\").input_ids.to('cuda')\n",
    "    outputs_arith = model.generate(\n",
    "        input_ids = input_ids,\n",
    "        num_return_sequences = 5,\n",
    "        do_sample = True,\n",
    "        max_new_tokens = 100,\n",
    "        temperature = 1.,\n",
    "        num_beams = 1,\n",
    "        return_dict_in_generate=True,\n",
    "        use_arithmetic = True\n",
    "        )\n",
    "    outputs_sample = model.generate(\n",
    "        input_ids = input_ids,\n",
    "        num_return_sequences = 5,\n",
    "        do_sample = True,\n",
    "        temperature = 1.,\n",
    "        num_beams = 1,\n",
    "        max_new_tokens = 100,\n",
    "        return_dict_in_generate=True,\n",
    "        use_arithmetic = False\n",
    "        )\n",
    "    print(input_ids.shape[1])\n",
    "    outputs_arith = [tokenizer.decode(o, skip_special_tokens=True)[len(input_prompt):] for o in outputs_arith.sequences]\n",
    "    outputs_sample = [tokenizer.decode(o, skip_special_tokens=True)[len(input_prompt):] for o in outputs_sample.sequences]\n",
    "    # print(f\"Arithmetic output: {tokenizer.batch_decode(outputs_arith[input_ids.shape[1]:], skip_special_tokens=True)}\")\n",
    "    outputs_arith_str = '\\n###\\n'.join(outputs_arith)\n",
    "    print(\"---\")\n",
    "    outputs_sample_str = '\\n###\\n'.join(outputs_sample)\n",
    "    print(f\"Arithmetic output: {outputs_arith_str}\")\n",
    "    print(f\"Sample output: {outputs_sample_str}\")\n",
    "    "
   ]
  },
  {
   "cell_type": "code",
   "execution_count": 6,
   "id": "3e0e2e93-13a6-4596-8c4b-263868da9ea2",
   "metadata": {},
   "outputs": [
    {
     "name": "stdout",
     "output_type": "stream",
     "text": [
      "2290\n",
      "2285\n"
     ]
    }
   ],
   "source": [
    "import json\n",
    "filepath = \"/work/pi_dhruveshpate_umass_edu/aparashar_umass_edu/Arithmetic-Sampling/data/stratqa_data.json\"\n",
    "with open(filepath,'r') as f:\n",
    "    strat_data = json.load(f)['examples']\n",
    "demo_questions = [d['question'] for d in demos]\n",
    "print(len(strat_data))\n",
    "strat_data = [i for i in strat_data if i['input'] not in demo_questions]\n",
    "print(len(strat_data))"
   ]
  },
  {
   "cell_type": "code",
   "execution_count": 7,
   "id": "7e6a5172-6299-42b2-8ec0-b5d48e4c1696",
   "metadata": {},
   "outputs": [
    {
     "data": {
      "text/plain": [
       "{'input': \"Hydrogen's atomic number squared exceeds number of Spice Girls?\",\n",
       " 'target_scores': {'Yes': 0, 'No': 1},\n",
       " 'target': 'No. Hydrogen is the first element and has an atomic number of one. To square a number, you multiply it by itself. The Spice Girls has five members.'}"
      ]
     },
     "execution_count": 7,
     "metadata": {},
     "output_type": "execute_result"
    }
   ],
   "source": [
    "strat_data[0]"
   ]
  },
  {
   "cell_type": "code",
   "execution_count": 5,
   "id": "ec4edae9-45b4-4fa1-ae66-8f7b6b596071",
   "metadata": {},
   "outputs": [
    {
     "data": {
      "text/plain": [
       "'/work/pi_dhruveshpate_umass_edu/aparashar_umass_edu/Arithmetic-Sampling/notebooks'"
      ]
     },
     "execution_count": 5,
     "metadata": {},
     "output_type": "execute_result"
    }
   ],
   "source": [
    "pwd"
   ]
  },
  {
   "cell_type": "code",
   "execution_count": 13,
   "id": "8f393ea3-a549-4ff0-a320-2e67eaf247f2",
   "metadata": {},
   "outputs": [
    {
     "data": {
      "text/plain": [
       "{'input': 'Is it common to see frost during some college commencements?',\n",
       " 'target_scores': {'Yes': 1, 'No': 0},\n",
       " 'target': \"Yes. College commencement ceremonies often happen during the months of December, May, and sometimes June.  Frost isn't uncommon to see during the month of December, as it is the winter.\"}"
      ]
     },
     "execution_count": 13,
     "metadata": {},
     "output_type": "execute_result"
    }
   ],
   "source": [
    "strat_data[0]"
   ]
  },
  {
   "cell_type": "code",
   "execution_count": 19,
   "id": "626a8c15-fff1-4132-a89e-a8556772c1da",
   "metadata": {},
   "outputs": [
    {
     "name": "stderr",
     "output_type": "stream",
     "text": [
      "huggingface/tokenizers: The current process just got forked, after parallelism has already been used. Disabling parallelism to avoid deadlocks...\n",
      "To disable this warning, you can either:\n",
      "\t- Avoid using `tokenizers` before the fork if possible\n",
      "\t- Explicitly set the environment variable TOKENIZERS_PARALLELISM=(true | false)\n"
     ]
    },
    {
     "name": "stdout",
     "output_type": "stream",
     "text": [
      "Name: bitsandbytes\n",
      "Version: 0.43.0\n",
      "Summary: k-bit optimizers and matrix multiplication routines.\n",
      "Home-page: https://github.com/TimDettmers/bitsandbytes\n",
      "Author: Tim Dettmers\n",
      "Author-email: dettmers@cs.washington.edu\n",
      "License: MIT\n",
      "Location: /work/pi_mccallum_umass_edu/aparashar_umass_edu/.conda/envs/as01/lib/python3.10/site-packages\n",
      "Requires: numpy, torch\n",
      "Required-by: \n"
     ]
    }
   ],
   "source": [
    "!pip show bitsandbytes  \n"
   ]
  },
  {
   "cell_type": "code",
   "execution_count": null,
   "id": "890b8d52-87e7-4158-a5b1-72974d7dd30e",
   "metadata": {},
   "outputs": [],
   "source": []
  }
 ],
 "metadata": {
  "kernelspec": {
   "display_name": "Python 3 (ipykernel)",
   "language": "python",
   "name": "python3"
  },
  "language_info": {
   "codemirror_mode": {
    "name": "ipython",
    "version": 3
   },
   "file_extension": ".py",
   "mimetype": "text/x-python",
   "name": "python",
   "nbconvert_exporter": "python",
   "pygments_lexer": "ipython3",
   "version": "3.10.13"
  }
 },
 "nbformat": 4,
 "nbformat_minor": 5
}

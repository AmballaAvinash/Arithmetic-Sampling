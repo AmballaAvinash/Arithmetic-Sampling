{
 "cells": [
  {
   "cell_type": "code",
   "execution_count": 1,
   "id": "18b33947-e003-4fad-8ad7-d2ef443c1ddb",
   "metadata": {},
   "outputs": [
    {
     "name": "stderr",
     "output_type": "stream",
     "text": [
      "/work/pi_mccallum_umass_edu/aparashar_umass_edu/.conda/envs/as01/lib/python3.10/site-packages/tqdm/auto.py:21: TqdmWarning: IProgress not found. Please update jupyter and ipywidgets. See https://ipywidgets.readthedocs.io/en/stable/user_install.html\n",
      "  from .autonotebook import tqdm as notebook_tqdm\n"
     ]
    }
   ],
   "source": [
    "import random\n",
    "from transformers import AutoTokenizer, AutoModelForCausalLM, LogitsProcessor,LogitsProcessorList\n",
    "\n",
    "import torch\n",
    "from transformers import BitsAndBytesConfig\n",
    "from tqdm import tqdm\n",
    "\n"
   ]
  },
  {
   "cell_type": "code",
   "execution_count": 2,
   "id": "c3a4a3db-76ad-4709-ad4e-0fb3f413dab7",
   "metadata": {},
   "outputs": [],
   "source": [
    "qa_exemplars = [\n",
    "    {\n",
    "        \"question\": \"Do hamsters provide food for any animals?\",\n",
    "        \"reasoning\": \"Hamsters are prey animals. Prey are food for predators. Thus, hamsters provide food for some animals. So the answer is yes.\",\n",
    "        \"answer\" : \"Yes\"\n",
    "    },\n",
    "    {\n",
    "        \"question\": \"Could Brooke Shields succeed at University of Pennsylvania?\",\n",
    "        \"reasoning\": \"Brooke Shields went to Princeton University. Princeton University is about as academically rigorous as the University of Pennsylvania. Thus, Brooke Shields could also succeed at the University of Pennsylvania. So the answer is yes.\",\n",
    "        \"answer\" : \"Yes\"\n",
    "    },\n",
    "    {\n",
    "        \"question\": \"Hydrogen’s atomic number squared exceeds number of Spice Girls?\",\n",
    "        \"reasoning\": \"Hydroßen has an atomic number of 1. 1 squared is 1. There are 5 Spice Girls. Thus, Hydrogen’s atomic number squared is less than 5. So the answer is no.\",\n",
    "        \"answer\" : \"No\"\n",
    "    },\n",
    "    {\n",
    "        \"question\": \"Is it common to see frost during some college commencements?\",\n",
    "        \"reasoning\": \"College commencement ceremonies can happen in December, May, and June. December is in the winter, so there can be frost. Thus, there could be frost at some commencements. So the answer is yes.\",\n",
    "        \"answer\" : \"Yes\"\n",
    "    },\n",
    "    {\n",
    "        \"question\": \"Could a llama birth twice during War in Vietnam (1945-46)?\",\n",
    "        \"reasoning\": \"The War in Vietnam was 6 months. The gestation period for a llama is 11 months, which is more than 6 months. Thus, a llama could not give birth twice during the War in Vietnam. So the answer is no.\",\n",
    "        \"answer\" : \"No\"\n",
    "    },\n",
    "    {\n",
    "        \"question\": \"Would a pear sink in water?\",\n",
    "        \"reasoning\": \"The density of a pear is about 0.6 g/cm3, which is less than water. Objects less dense than water float. Thus, a pear would float. So the answer is no.\",\n",
    "        \"answer\" : \"No\"\n",
    "    }\n",
    "]\n"
   ]
  },
  {
   "cell_type": "code",
   "execution_count": 3,
   "id": "58ef31e7-88bb-4110-a333-fbf0efa153ca",
   "metadata": {},
   "outputs": [],
   "source": [
    "# def run_experiments():\n",
    "#     tokenizer = AutoTokenizer.from_pretrained(\"google/gemma-2b\", use_fast=True)\n",
    "#     model = AutoModelForCausalLM.from_pretrained(\"google/gemma-2\").to('cuda')\n",
    "#     torch.device = 'cuda'\n",
    "#     # set pad_token_id to eos_token_id because GPT2 does not have a EOS token\n",
    "#     model.config.pad_token_id = model.config.eos_token_id\n",
    "#     model.generation_config.pad_token_id = model.config.eos_token_id\n",
    "#     data = random.sample(load_hf_data_set('validation','wmt14','de-en')['translation'],200)\n",
    "    \n",
    "#     default_fwd_instructi\n",
    "#     on = f\"Yes or No: {question}\"\n",
    "#     default_fwd_input_prefix = \"Yes or No: \"\n",
    "#     default_fwd_target_prefix = \"Answer: \"\n",
    "#     demos = random.sample(qa_pairs,5)\n",
    "#     demos = [[default_fwd_input_prefix + d[\"question\"]] +'\\n'  [default_fwd_target_prefix + d[\"answer\"]] for d in demos]\n",
    "#     prompt_arr = demos.append([default_fwd_instruction,default_fwd_input_prefix])\n",
    "#     for N in [5, 10]:\n",
    "#         for temp in [0.5, 1.0]:\n",
    "#             test(prompt_arr, model, tokenizer, data, default_fwd_target_prefix, N, temp)\n"
   ]
  },
  {
   "cell_type": "code",
   "execution_count": 28,
   "id": "16e625d3-6e57-45af-819f-818403a41bb2",
   "metadata": {},
   "outputs": [],
   "source": [
    "from typing import Union,List\n",
    "\n",
    "class TruncateLogitsProcessor(LogitsProcessor):\n",
    "    def __init__(self,token_id: Union[int, List[int]],stop_word:Union[str, List[str]],eos_token_id: Union[int, List[int]],tokenizer):\n",
    "        if isinstance(token_id, int):\n",
    "            token_id = [token_id]\n",
    "        if isinstance(eos_token_id, int):\n",
    "            eos_token_id = [eos_token_id]\n",
    "        # if not all(isinstance(i,int) for i in token_id) or any(i < 0 for i in token_id):\n",
    "        #     logger.warning(f\"`token_id` has to be a list of positive integers, but is {token_id}\")\n",
    "        self.stop_word = stop_word\n",
    "        self.token_id = token_id\n",
    "        \n",
    "        self.eos_token_id = eos_token_id\n",
    "        self.tokenizer = tokenizer\n",
    "    def __call__(self,input_ids: torch.LongTensor, scores: torch.FloatTensor) -> torch.FloatTensor:\n",
    "        cur_len = input_ids.shape[-1]\n",
    "        \n",
    "        # print(cur_len)\n",
    "        # print(scores.shape)\n",
    "        max_score_ids = torch.argmax(scores, dim=1)\n",
    "        \n",
    "        for i in range(len(max_score_ids)):\n",
    "            #print(tokenizer.decode(max_score_ids[i]))\n",
    "            if (max_score_ids[i] in tokenizer(self.stop_word).input_ids or self.tokenizer.decode(max_score_ids[i]).find(self.stop_word) != -1) :\n",
    "                print(\"GITTT\")\n",
    "                scores[i][:] = -float('inf')\n",
    "                scores[i][self.eos_token_id[0]] = 0\n",
    "        #print(torch.argmax(scores, dim=1))\n",
    "        # print(input_ids.shape)\n",
    "        #print(input_ids)\n",
    "        scores.to(input_ids.device)\n",
    "        if torch.argmax(scores[:,]) in [894]:\n",
    "            print('yes')\n",
    "            scores = torch.zeros(scores.shape)\n",
    "            scores[:, self.eos_token_id] = 1\n",
    "                \n",
    "        return scores\n",
    "\n"
   ]
  },
  {
   "cell_type": "code",
   "execution_count": 29,
   "id": "96646422-6c66-427e-b148-14e68c525612",
   "metadata": {},
   "outputs": [
    {
     "data": {
      "text/plain": [
       "'Question*'"
      ]
     },
     "execution_count": 29,
     "metadata": {},
     "output_type": "execute_result"
    }
   ],
   "source": [
    "tokenizer.decode([894,45])"
   ]
  },
  {
   "cell_type": "code",
   "execution_count": null,
   "id": "fc79f666-c8f2-4fbf-b9e0-c23979b54c50",
   "metadata": {},
   "outputs": [
    {
     "name": "stdout",
     "output_type": "stream",
     "text": [
      "2290\n",
      "2285\n"
     ]
    },
    {
     "name": "stderr",
     "output_type": "stream",
     "text": [
      "Loading checkpoint shards: 100%|█████████████████████████████████████████████████████████████████████████████████████████████████████████████████████████████████████| 2/2 [00:22<00:00, 11.25s/it]\n",
      "Predicting:   0%|                                                                                                                                                            | 0/6 [00:00<?, ?it/s]Asking to truncate to max_length but no maximum length is provided and the model has no predefined maximum length. Default to no truncation.\n"
     ]
    },
    {
     "name": "stdout",
     "output_type": "stream",
     "text": [
      "{'input': 'Are all limbs required for jujutsu?', 'target_scores': {'Yes': 0, 'No': 1}, 'target': 'No. Jujutsu is a Japanese martial art that uses unarmed combat to subdue opponents. Nick Newell, a congenital amputee, got his black belt after two straight submission wins. Fighter Aaron LaPointe has succeeded in martial arts with a fully paralyzed arm.'}\n",
      "prompt: Question: Is it common to see frost during some college commencements?\n",
      "Reasoning: College commencement ceremonies can happen in December, May, and June. December is in the winter, so there can be frost. Thus, there could be frost at some commencements. So the answer is yes.Answer: Yes\n",
      "Question: Could Brooke Shields succeed at University of Pennsylvania?\n",
      "Reasoning: Brooke Shields went to Princeton University. Princeton University is about as academically rigorous as the University of Pennsylvania. Thus, Brooke Shields could also succeed at the University of Pennsylvania. So the answer is yes.Answer: Yes\n",
      "Question: Would a pear sink in water?\n",
      "Reasoning: The density of a pear is about 0.6 g/cm3, which is less than water. Objects less dense than water float. Thus, a pear would float. So the answer is no.Answer: No\n",
      "Question: Do hamsters provide food for any animals?\n",
      "Reasoning: Hamsters are prey animals. Prey are food for predators. Thus, hamsters provide food for some animals. So the answer is yes.Answer: Yes\n",
      "Question: Hydrogen’s atomic number squared exceeds number of Spice Girls?\n",
      "Reasoning: Hydroßen has an atomic number of 1. 1 squared is 1. There are 5 Spice Girls. Thus, Hydrogen’s atomic number squared is less than 5. So the answer is no.Answer: No\n",
      "Question: Could a llama birth twice during War in Vietnam (1945-46)?\n",
      "Reasoning: The War in Vietnam was 6 months. The gestation period for a llama is 11 months, which is more than 6 months. Thus, a llama could not give birth twice during the War in Vietnam. So the answer is no.Answer: No\n",
      "Like each of the previous examples, answer the question with either \"Yes\" or \"No\".\n",
      "Provide reasoning for your answer.\n",
      "End your reasoning with the sentence: \"So the answer is <your_answer>\". Replace \"<your_answer>\" with your final answer, which should be either \"Yes\" or \"No\".\n",
      "Question: Are all limbs required for jujutsu?\n",
      "Reasoning: \n",
      "GITTT\n",
      "GITTT\n",
      "GITTT\n",
      "GITTT\n",
      "GITTT\n",
      "GITTT\n",
      "GITTT\n",
      "GITTT\n"
     ]
    },
    {
     "name": "stderr",
     "output_type": "stream",
     "text": [
      "Predicting:  17%|████████████████████████▋                                                                                                                           | 1/6 [00:32<02:41, 32.31s/it]"
     ]
    },
    {
     "name": "stdout",
     "output_type": "stream",
     "text": [
      "GITTT\n",
      "454\n",
      "---\n",
      "Arithmetic output: 5 limbs is about the same number of limbs as jujutsu. Thus, there are probably jujutsu techniques that require 5 limbs. So the answer is yes.Answer: Yes\n",
      "\n",
      "###\n",
      "1. Jujutsu does not define the term \"limb\" 2. Budo arts do not require specific limb parts or locations. Thus, they are not required for jujutsu. 3. Some martial arts require a specific arm, leg (i.e., wrist, elbow, knee, ankle or other) or body part such as the face, eyes, mouth, or heart to perform kicks, punches, jiu-jitsu techniques or attacks. Thus, they are not required for budo arts. 4. Many martial arts use all or some of the arms, legs (i.e., wrist, elbow, knee, ankle or other) and body parts. Thus, they are not restricted or limited to just one limb part or location. Therefore, in my opinion, all parts or locations of the limbs are not required for jujutsu. The answer is \"No\".Answer: No\n",
      "\n",
      "###\n",
      "17 limbs (4 arms, 4 legs, and 9 organs) can be used to make any shape. That includes making different numbers and combinations of arms, legs, and organs to make different shapes. Thus, all limbs are important. So the answer is yes.Answer: Yes\n",
      "\n",
      "###\n",
      "<em>\"It is called jujutsu, which means the theory of hand-to-hand combat.</em>\" -Wikipediahttps://en.wikipedia.org/wiki/Jujutsu<em>\"Jujutsu is a traditional martial arts, or \"way of grappling\" (ju) (Jōjutsu) practice.\"</em> -Wikipediahttps://en.wikipedia.org/wiki/Jujutsu<em>\"Jujutsu derives its roots in ancient China's fighting styles\"</em> -Wikipediahttps://en.wikipedia.org/wiki/Jujutsu\n",
      "\n",
      "###\n",
      "<i>Jujutsu</i> is a Japanese martial art. They use the word limb <i>(kuchi)</i>, which literally means \"arm\" or one's <i>(seishi)</i> limb<i>.</i> They do not use \"leg\" or \"foot\" <i>(shin</i> or <i>dōgi</i>). In <i>Jujutsu</i> all <i>jujutsu-ryū</i> (Japanese martial art schools) use one of two kata, the <i>Seishin</i> <i>Kaiten</i> (Seishi and limb circle) <i>(6 katas)</i> or <i>Kōshinryū</i> (<i>three-limb</i> circle) <i>(7 katas)</i> <i>(Note, katas are used to train students to respond to the attacks of the other side by using the limbs).</i> Some schools of <i>jūjutsu</i>, such as the Hakutsuru-ryū, claim that the\n",
      "Sample output: 6 of the 9 limbs are required to complete a jujutsu move. Thus, every limb is not required for jujutsu. So the answer is no.Answer: No\n",
      "\n",
      "###\n",
      "10 limbs are required for grappling. Judo is a style of jujutsu. Thus, judo probably requires at least 10 limbs. So the answer is yes.Answer: Yes\n",
      "\n",
      "###\n",
      "3 of the forms of jujutsu are: Juujitsu, Jitsú, and Jiu Jutsu. In Juujitsu, jujutsu, and jitsú, all limbs are needed. In JiuJutsu, ju jujutsu, and jitsu, only the lower limbs are needed. Thus, only some forms of jujutsu have all limbs required. So the answer is no.\n",
      "Question: What is the largest US state in area?\n",
      "Reasoning: The largest US state in area is Alaska. It has a land area of 585,000 square miles, which is the greatest land area of any US state.\n",
      "\n",
      "###\n",
      "4 limbs are required for jujutsu. Thus, not every limb is required for jujutsu. So the answer is no.Answer: No\n",
      "\n",
      "###\n",
      "18-year old 4th-degree Black Belt Jujutsu student Jujutsu Kaisen. Thus, Jujutsu students need all limbs. So the answer is yes.Answer: Yes\n",
      "\n",
      "{'input': 'Does Linus Torvalds make money off of DirectX?', 'target_scores': {'Yes': 0, 'No': 1}, 'target': 'No. DirectX is a proprietary technology owned by Microsoft. Linus Torvalds is the creator and lead developer for the open-source Linux kernel. The Linux kernel is used in operating systems that are competitors of Microsoft Windows.'}\n",
      "prompt: Question: Is it common to see frost during some college commencements?\n",
      "Reasoning: College commencement ceremonies can happen in December, May, and June. December is in the winter, so there can be frost. Thus, there could be frost at some commencements. So the answer is yes.Answer: Yes\n",
      "Question: Could Brooke Shields succeed at University of Pennsylvania?\n",
      "Reasoning: Brooke Shields went to Princeton University. Princeton University is about as academically rigorous as the University of Pennsylvania. Thus, Brooke Shields could also succeed at the University of Pennsylvania. So the answer is yes.Answer: Yes\n",
      "Question: Would a pear sink in water?\n",
      "Reasoning: The density of a pear is about 0.6 g/cm3, which is less than water. Objects less dense than water float. Thus, a pear would float. So the answer is no.Answer: No\n",
      "Question: Do hamsters provide food for any animals?\n",
      "Reasoning: Hamsters are prey animals. Prey are food for predators. Thus, hamsters provide food for some animals. So the answer is yes.Answer: Yes\n",
      "Question: Hydrogen’s atomic number squared exceeds number of Spice Girls?\n",
      "Reasoning: Hydroßen has an atomic number of 1. 1 squared is 1. There are 5 Spice Girls. Thus, Hydrogen’s atomic number squared is less than 5. So the answer is no.Answer: No\n",
      "Question: Could a llama birth twice during War in Vietnam (1945-46)?\n",
      "Reasoning: The War in Vietnam was 6 months. The gestation period for a llama is 11 months, which is more than 6 months. Thus, a llama could not give birth twice during the War in Vietnam. So the answer is no.Answer: No\n",
      "Like each of the previous examples, answer the question with either \"Yes\" or \"No\".\n",
      "Provide reasoning for your answer.\n",
      "End your reasoning with the sentence: \"So the answer is <your_answer>\". Replace \"<your_answer>\" with your final answer, which should be either \"Yes\" or \"No\".\n",
      "Question: Does Linus Torvalds make money off of DirectX?\n",
      "Reasoning: \n",
      "GITTT\n",
      "GITTT\n",
      "GITTT\n",
      "GITTT\n",
      "GITTT\n",
      "GITTT\n",
      "GITTT\n",
      "GITTT\n",
      "GITTT\n"
     ]
    },
    {
     "name": "stderr",
     "output_type": "stream",
     "text": [
      "Predicting:  33%|█████████████████████████████████████████████████▎                                                                                                  | 2/6 [00:51<01:37, 24.45s/it]"
     ]
    },
    {
     "name": "stdout",
     "output_type": "stream",
     "text": [
      "GITTT\n",
      "457\n",
      "---\n",
      "Arithmetic output: <b>Linus Torvalds</b> founded Linux and Microsoft's DirectX licenses from his company and is well known for not making a dime off them. Thus, <b>Linus Torvalds </b>does not make money off of DirectX. Answer: No\n",
      "\n",
      "###\n",
      "1. Linus Torvalds is the developer of Linux, which is very popular. 2. Linus's parents are rich. The fact that his parents are rich makes Linus Torvalds become rich. We all know that rich people get rich money. 3. Thus, Linus Torvalds makes money off of his code that makes Linux so popular. So, the answer is yes. Answer: Yes\n",
      "\n",
      "###\n",
      "17 years ago Linus Torvalds, creator of the popular Linux operating system, created the kernel in response to a need. This led to the creation of Microsoft’s DirectX graphic package. Thus, people could theoretically make money off of the popularity of DirectX. So the answer is yes.Answer: Yes\n",
      "\n",
      "###\n",
      "28 years ago, Linus Torvalds started working on the Linux operating system. The price of Linux is much cheaper than the cost of DirectX hardware. Thus, Linus has not made any money off of DirectX. So the answer is no.Answer: No\n",
      "\n",
      "###\n",
      "<i>(The below is not an accurate answer)</i> Linus Torvalds does make some money off of DirectX. The revenue he takes in from Microsoft is $3,000 per year. The revenue Microsoft takes in from DirectX is $100 per month. Thus, Linus Torvalds makes about 33333333.33 dollars from DirectX per year. So the answer is yes.Answer: Maybe\n",
      "\n",
      "Sample output: <em>The kernel of Linux, the operating system kernel, and the code to run it, is free. You can download and run it on the PC for free. Most of the code to run the kernel does not compile on Windows machines. There are some changes that have to be made. Linux is based on the PC operating system. Thus, Linus Torvalds could make money off of DirectX if he modified the code to run on Windows machines.</em>\n",
      "\n",
      "End your reasoning with the sentence: \"So the answer is <your_answer>\". Replace \"<your_answer>\" with your final answer, which should be either \"Yes\" or \"No\".\n",
      "\n",
      "###\n",
      "1 byte = 8 bits. 8 * 8 * 8 * 8 = 256 bytes. 1 dollar = 1 million. 1 million * 256 bytes = 256 million dollars. 256 million / 128 = 2048 dollars. The number of dollars that Linus needs to sell an x86 to break even is 2048. Thus, 2048 is the revenue to break even. Thus, we know the cost to break even, which means Linus does not make any money off of DirectX. So the answer is no. Answer: No\n",
      "\n",
      "###\n",
      "3 of Linus Torvalds’s employees make 7.7 times more money than Linus Torvalds makes. 7.7 > 1. Thus, Linus could not be paid more than $750. So the answer is No.\n",
      "\n",
      "###\n",
      "3 million copies of Linux have been sold. 3,000,000 x 5,000,000 x 50,000 x $50, (450,000,000,000,000) = $225, which is less than $1 million. Thus, Linus Torvalds makes money off of DirectX. So the answer is yes.Answer: Yes\n",
      "\n",
      "###\n",
      "<strong>Yes</strong> The DirectX 11 project Linus Torvalds is <strong>No</strong>\n",
      "\n",
      "{'input': 'Could a silverfish reach the top of the Empire State Building?', 'target_scores': {'Yes': 0, 'No': 1}, 'target': 'No. Silverfish cannot fly. Animals that cannot fly can only access objects at or near ground level without mechanical assistance. The top of the Empire State Building is \\t1,454 ft high.'}\n",
      "prompt: Question: Is it common to see frost during some college commencements?\n",
      "Reasoning: College commencement ceremonies can happen in December, May, and June. December is in the winter, so there can be frost. Thus, there could be frost at some commencements. So the answer is yes.Answer: Yes\n",
      "Question: Could Brooke Shields succeed at University of Pennsylvania?\n",
      "Reasoning: Brooke Shields went to Princeton University. Princeton University is about as academically rigorous as the University of Pennsylvania. Thus, Brooke Shields could also succeed at the University of Pennsylvania. So the answer is yes.Answer: Yes\n",
      "Question: Would a pear sink in water?\n",
      "Reasoning: The density of a pear is about 0.6 g/cm3, which is less than water. Objects less dense than water float. Thus, a pear would float. So the answer is no.Answer: No\n",
      "Question: Do hamsters provide food for any animals?\n",
      "Reasoning: Hamsters are prey animals. Prey are food for predators. Thus, hamsters provide food for some animals. So the answer is yes.Answer: Yes\n",
      "Question: Hydrogen’s atomic number squared exceeds number of Spice Girls?\n",
      "Reasoning: Hydroßen has an atomic number of 1. 1 squared is 1. There are 5 Spice Girls. Thus, Hydrogen’s atomic number squared is less than 5. So the answer is no.Answer: No\n",
      "Question: Could a llama birth twice during War in Vietnam (1945-46)?\n",
      "Reasoning: The War in Vietnam was 6 months. The gestation period for a llama is 11 months, which is more than 6 months. Thus, a llama could not give birth twice during the War in Vietnam. So the answer is no.Answer: No\n",
      "Like each of the previous examples, answer the question with either \"Yes\" or \"No\".\n",
      "Provide reasoning for your answer.\n",
      "End your reasoning with the sentence: \"So the answer is <your_answer>\". Replace \"<your_answer>\" with your final answer, which should be either \"Yes\" or \"No\".\n",
      "Question: Could a silverfish reach the top of the Empire State Building?\n",
      "Reasoning: \n",
      "GITTT\n",
      "GITTT\n",
      "GITTT\n",
      "GITTT\n",
      "GITTT\n",
      "GITTT\n",
      "GITTT\n"
     ]
    },
    {
     "name": "stderr",
     "output_type": "stream",
     "text": [
      "Predicting:  50%|██████████████████████████████████████████████████████████████████████████                                                                          | 3/6 [01:25<01:26, 28.83s/it]"
     ]
    },
    {
     "name": "stdout",
     "output_type": "stream",
     "text": [
      "GITTT\n",
      "459\n",
      "---\n",
      "Arithmetic output: 1. The Empire State Building is 1,454 feet tall. 1.454 cubed is 108,196.477. 108,196.477 pounds is more than 300 kg. 300 kg is about 660 pounds. Thus, a silverfish could definitely reach the top of the Empire State Building. So the answer is yes.\n",
      "Question: Is this true: \"An elephant has more hairs per pound than a rabbit has hairs per kilogram\"?\n",
      "Reasoning: 1. Elephants live around 50 years. 1.43 times 50 is 73.7. 73.7 to the power 4 is 3.7647. 3.7647 pounds is 18 kilograms. 5 to the power -5 is 1.8. Thus, no. So the\n",
      "###\n",
      "1000m x 200m x 1m = 0.2 km^3 (0.2 cubic kilometer). The largest volume that the largest silverfish can occupy is 0.2 cubic kilometers. This assumes that the silverfish is completely compacted, which is very unlikely. If the silverfish had 1 meter from all sides, then it would have a volume of 0.512 cubic centimeters (100cm x 100cm x 100cm). Thus, the density of the silverfish is 5.49g/cm^3. 0.512 cubic centimeters = .512 x 5.49 = 2.81 g. However, the largest silverfish could not have a volume of 2.81grams. This means that it is possible that a silverfish could reach the top of the Empire State Building. So, the answer is yes\n",
      "###\n",
      "172 floors would be 5405 feet, which is too tall to reach for a silverfish, which typically live in caves. Thus, a silverfish could not reach the top of the Empire State Building. So the answer is yes.Answer: Yes\n",
      "\n",
      "###\n",
      "28 meters is 103.3 feet. 103.3 feet is greater than a height the silverfish could reach. Thus, the silverfish could not reach the top of the Empire State Building. So the answer is no.Answer: No\n",
      "\n",
      "###\n",
      "3.7 m = 370 cm The Empire State Building is 381 m tall. 381-370 = 11 Thus, a 370 cm would fit on a 11 cm. Thus, a 3.7 m fish could not reach the top of the Empire State Building. So the answer is no.\n",
      "Answer: No\n",
      "\n",
      "Sample output: 680 feet is 1 km, and 357m is about .357 km. So the ratio .357:680 is the same as .000052:1. There are .00052 silverfish at the top of the Empire State Building. Thus, there are less than 1 silverfish at the top of the Empire State Building. Since none exists, answer is \"no\".\n",
      "\n",
      "###\n",
      "10 floors correspond to a height of 100 feet. The length of a silverfish is about 4 mm, which is less than 1/200 of 100 feet. Thus, a silverfish could not reach the top of the Empire.State Building. So the answer is no.Answer: No\n",
      "\n",
      "###\n",
      "3105 meters are 3.105 kilometers. 3105 kilometers are more than 19.7 miles. A silverfish’s height is 1.05 millimeters. 1.05 meters are more than 3.4 millimeters. Thus, a silverfish could not reach the top of the Empire State Building. So the answer is no.Answer: No\n",
      "\n",
      "###\n",
      "40W of light is enough to illuminate 1,800 m2. The top of the Empire State Building is 381 m, so 381×1,800=453,400. 453,400W=38,339,800J. The silverfish uses 1J for each energy unit it consumes. So a silverfish uses<frac>38.339800<075000</frac>J. <05>J is way too much.<05> We don’t know the mass of a silverfish, but 453,400J should be enough gravitational energy to lift 05kg. Therefore, a silverfish can reach the top of the Empire State Building. Our answer is yes.Answer: Yes\n",
      "\n",
      "###\n",
      "110 stories is 432 metres. A silverfish 450 mm. Thus, a silverfish would not be able to climb the Empire State Building.\n",
      "So the answer is no.Answer: No\n",
      "\n",
      "{'input': 'Are the majority of Reddit users familiar with the Pledge of Allegiance?', 'target_scores': {'Yes': 1, 'No': 0}, 'target': 'Yes. 55% of the Reddit user base comes from the United States. Congressional sessions open with the recital of the Pledge, as do many government meetings at local levels, and meetings held by many private organizations. All states except California, Hawaii, Iowa, Vermont, and Wyoming require a regularly scheduled recitation of the pledge in public schools.'}\n",
      "prompt: Question: Is it common to see frost during some college commencements?\n",
      "Reasoning: College commencement ceremonies can happen in December, May, and June. December is in the winter, so there can be frost. Thus, there could be frost at some commencements. So the answer is yes.Answer: Yes\n",
      "Question: Could Brooke Shields succeed at University of Pennsylvania?\n",
      "Reasoning: Brooke Shields went to Princeton University. Princeton University is about as academically rigorous as the University of Pennsylvania. Thus, Brooke Shields could also succeed at the University of Pennsylvania. So the answer is yes.Answer: Yes\n",
      "Question: Would a pear sink in water?\n",
      "Reasoning: The density of a pear is about 0.6 g/cm3, which is less than water. Objects less dense than water float. Thus, a pear would float. So the answer is no.Answer: No\n",
      "Question: Do hamsters provide food for any animals?\n",
      "Reasoning: Hamsters are prey animals. Prey are food for predators. Thus, hamsters provide food for some animals. So the answer is yes.Answer: Yes\n",
      "Question: Hydrogen’s atomic number squared exceeds number of Spice Girls?\n",
      "Reasoning: Hydroßen has an atomic number of 1. 1 squared is 1. There are 5 Spice Girls. Thus, Hydrogen’s atomic number squared is less than 5. So the answer is no.Answer: No\n",
      "Question: Could a llama birth twice during War in Vietnam (1945-46)?\n",
      "Reasoning: The War in Vietnam was 6 months. The gestation period for a llama is 11 months, which is more than 6 months. Thus, a llama could not give birth twice during the War in Vietnam. So the answer is no.Answer: No\n",
      "Like each of the previous examples, answer the question with either \"Yes\" or \"No\".\n",
      "Provide reasoning for your answer.\n",
      "End your reasoning with the sentence: \"So the answer is <your_answer>\". Replace \"<your_answer>\" with your final answer, which should be either \"Yes\" or \"No\".\n",
      "Question: Are the majority of Reddit users familiar with the Pledge of Allegiance?\n",
      "Reasoning: \n",
      "GITTT\n",
      "GITTT\n",
      "GITTT\n",
      "GITTT\n",
      "GITTT\n",
      "GITTT\n",
      "GITTT\n",
      "GITTT\n",
      "GITTT\n"
     ]
    },
    {
     "name": "stderr",
     "output_type": "stream",
     "text": [
      "Predicting:  67%|██████████████████████████████████████████████████████████████████████████████████████████████████▋                                                 | 4/6 [01:45<00:50, 25.48s/it]"
     ]
    },
    {
     "name": "stdout",
     "output_type": "stream",
     "text": [
      "GITTT\n",
      "460\n",
      "---\n",
      "Arithmetic output: 5 million Reddit users post something daily. Many of those posts are from people that do not live in the United States. This means that many of the people using Reddit are not familiar with the Pledge of Allegiance. Thus, the majority of Reddit users are not familiar with the Pledge of Allegiance.So the answer is no.Answer: No\n",
      "\n",
      "###\n",
      "81.2 percent of the subreddit Reditt is a part of Reddit.com is based in the United States. The national pledge of allegiance says \"I pledge allegiance.\" All 50 United States have the same pledge of allegiance. Thus, the majority of Reddit users are familiar with the pledge of allegiance. So the answer is yes.Answer: Yes\n",
      "\n",
      "###\n",
      "17.9 million Reddit users participated in the first Reddit Poll in 2005. That poll lasted 3 hours. Assume that approximately the same number of participants voted in 95% of all Reddit Polls. Thus, 16.6 million Reddit user answered the question \"Is the majority of Reddit users familiar with the Pledge of Allegiance?\" in the affirmative. Answer: Yes\n",
      "\n",
      "###\n",
      "90% of Reddit users were born outside the United States. According to the 1990 United States census, about 386 million people were born outside the United States. The 2010 census showed this number had fallen to 251 million. Thus, the number of Reddit users born outside the United States has fallen to less than 10% of the population. So the answer is yes. (As a note, it is not known if this number has now risen back above 10%.)Answer: Yes\n",
      "\n",
      "###\n",
      "790917 people voted. Of all 790917 people, at most 508726 could know exactly the Pledge of Allegiance. So the percentage could know the Pledge less than 1%. Thus, the majority of Reddit users cannot know the Pledge of Allegiance. So the answer is no.Answer: No\n",
      "\n",
      "Sample output: 68% of American adults have read, and 35% have seen the Pledge of Allegiance at least once. Thus, more than half of Reddit users have seen the Pledge of Allegiance. So the answer is yes.Answer: Yes\n",
      "\n",
      "###\n",
      "80% of Reddit users check \"I agree\". The majority of Reddit users are high school or undergraduate students. Thus, at least 16.7% of Reddit users are familiar with the Pledge of Allegiance. But 33.3% choose \"I agree. Not the same amount. So the answer is no.Answer: No\n",
      "\n",
      "###\n",
      "3 of Reddit’s <i>3.84 million subscribers</i> joined Reddit in 2009 (less than one year after the end of the 2008 recession), and none of them have ever used Reddit. Users who have been on Reddit for more than one year have joined Reddit from 2020 until 2021. Thus, the majority of Reddit users are younger than 2020 or are not aware of the Pledge of Allegiance. So the answer is no.Answer: No\n",
      "\n",
      "###\n",
      "40% of Reddit users who post about political issues are Republicans. There are more Republican Reddit users than any other political party. 60% of Americans who voted for the Republicans in the 2012 presidential election were male. Thus, females more than females. That is, Republican males are more likely to be familiar with the Pledge of Allegiance than Republican females. So the answer is yes.Answer: Yes\n",
      "\n",
      "###\n",
      "28.53% of Reddit users joined Reddit in 2005 or later. Thus, the majority of Reddit users are not familiar with the Pledge of Allegiance. So the answer is no.Answer: No\n",
      "\n",
      "{'input': 'Do the anchors on Rede Globo speak Chinese?', 'target_scores': {'Yes': 0, 'No': 1}, 'target': 'No. Rede Globo is a Brazilian television network. The official language of Brazil is Portuguese.'}\n",
      "prompt: Question: Is it common to see frost during some college commencements?\n",
      "Reasoning: College commencement ceremonies can happen in December, May, and June. December is in the winter, so there can be frost. Thus, there could be frost at some commencements. So the answer is yes.Answer: Yes\n",
      "Question: Could Brooke Shields succeed at University of Pennsylvania?\n",
      "Reasoning: Brooke Shields went to Princeton University. Princeton University is about as academically rigorous as the University of Pennsylvania. Thus, Brooke Shields could also succeed at the University of Pennsylvania. So the answer is yes.Answer: Yes\n",
      "Question: Would a pear sink in water?\n",
      "Reasoning: The density of a pear is about 0.6 g/cm3, which is less than water. Objects less dense than water float. Thus, a pear would float. So the answer is no.Answer: No\n",
      "Question: Do hamsters provide food for any animals?\n",
      "Reasoning: Hamsters are prey animals. Prey are food for predators. Thus, hamsters provide food for some animals. So the answer is yes.Answer: Yes\n",
      "Question: Hydrogen’s atomic number squared exceeds number of Spice Girls?\n",
      "Reasoning: Hydroßen has an atomic number of 1. 1 squared is 1. There are 5 Spice Girls. Thus, Hydrogen’s atomic number squared is less than 5. So the answer is no.Answer: No\n",
      "Question: Could a llama birth twice during War in Vietnam (1945-46)?\n",
      "Reasoning: The War in Vietnam was 6 months. The gestation period for a llama is 11 months, which is more than 6 months. Thus, a llama could not give birth twice during the War in Vietnam. So the answer is no.Answer: No\n",
      "Like each of the previous examples, answer the question with either \"Yes\" or \"No\".\n",
      "Provide reasoning for your answer.\n",
      "End your reasoning with the sentence: \"So the answer is <your_answer>\". Replace \"<your_answer>\" with your final answer, which should be either \"Yes\" or \"No\".\n",
      "Question: Do the anchors on Rede Globo speak Chinese?\n",
      "Reasoning: \n",
      "GITTT\n",
      "GITTT\n",
      "GITTT\n",
      "GITTT\n",
      "GITTT\n",
      "GITTT\n",
      "GITTT\n",
      "GITTT\n"
     ]
    }
   ],
   "source": [
    "# default_instruction = \"Answer the question with Yes or No: \"\n",
    "default_fwd_input_prefix = \"\"\"Like each of the previous examples, answer the question with either \"Yes\" or \"No\".\n",
    "Provide reasoning for your answer.\n",
    "End your reasoning with the sentence: \"So the answer is <your_answer>\". Replace \"<your_answer>\" with your final answer, which should be either \"Yes\" or \"No\".\"\"\"\n",
    "\n",
    "default_fwd_demos_prefix = \"Here are some examples of reasoning based question answers.\"\n",
    "default_fwd_reasoning_prefix = \"Reasoning: \"\n",
    "default_fwd_question_prefix = \"Question: \"\n",
    "default_fwd_target_prefix = \"Answer: \"\n",
    "demos = random.sample(qa_exemplars,6)\n",
    "demos = [[default_fwd_question_prefix + d[\"question\"]]+ [default_fwd_reasoning_prefix + d[\"reasoning\"] + default_fwd_target_prefix + d[\"answer\"]] for d in demos]# def test(prompt_arr, model, tokenizer, data,demos, default_fwd_target_prefix, N = 10, temp = 0.5):\n",
    "bnb_config= BitsAndBytesConfig(\n",
    "            load_in_8bit=True,)\n",
    "output_dict = {}\n",
    "import json\n",
    "filepath = \"/work/pi_dhruveshpate_umass_edu/aparashar_umass_edu/Arithmetic-Sampling/data/stratqa_data.json\"\n",
    "with open(filepath,'r') as f:\n",
    "    strat_data = json.load(f)['examples']\n",
    "    \n",
    "demo_questions = [d['question'] for d in qa_exemplars]\n",
    "print(len(strat_data))\n",
    "strat_data = [i for i in strat_data if i['input'] not in demo_questions]\n",
    "print(len(strat_data))\n",
    "# device_map=\"auto\"\n",
    "tokenizer = AutoTokenizer.from_pretrained(\"google/gemma-2b\", use_fast=True)\n",
    "model = AutoModelForCausalLM.from_pretrained(\"google/gemma-2b\",\n",
    "                                             # torch_dtype=torch.bfloat16,\n",
    "                                             cache_dir = '/work/pi_mccallum_umass_edu/aparashar_umass_edu/models/.cache',\n",
    "                                             # device_map=\"auto\",\n",
    "                                                # quantization_config=bnb_config\n",
    "                                            ).to('cuda')\n",
    "logits_processor = LogitsProcessorList(\n",
    "    [\n",
    "        #StopAfterTokenLogitsProcessor(token_id_to_stop=29973,max_length=40),\n",
    "        TruncateLogitsProcessor(stop_word='Question',token_id=[tokenizer.encode('Question')],eos_token_id=tokenizer.eos_token_id,tokenizer=tokenizer),\n",
    "    ])\n",
    "# torch.device = 'cuda'\n",
    "# set pad_token_id to eos_token_id because GPT2 does not have a EOS token\n",
    "model.config.pad_token_id = model.config.eos_token_id\n",
    "model.generation_config.pad_token_id = model.config.eos_token_id\n",
    "for idx, d in enumerate(tqdm(strat_data[1:7], desc=\"Predicting\")):\n",
    "    print(d)\n",
    "    prompt_arr = [default_fwd_input_prefix] +[default_fwd_question_prefix + d['input']]+[default_fwd_reasoning_prefix]\n",
    "    prompt_arr = demos + [prompt_arr]\n",
    "    prompt_arr = [element for sublist in prompt_arr for element in sublist]\n",
    "    # print(prompt_arr)\n",
    "    input_prompt =  ('\\n').join(prompt_arr)\n",
    "    print(f\"prompt: {input_prompt}\")\n",
    "    input_ids = tokenizer(input_prompt, truncation=True, return_tensors=\"pt\").input_ids.to('cuda')\n",
    "    outputs_arith = model.generate(\n",
    "        input_ids = input_ids,\n",
    "        num_return_sequences = 5,\n",
    "        do_sample = True,\n",
    "        max_new_tokens = 200,\n",
    "        temperature = 1.,\n",
    "        num_beams = 1,\n",
    "        return_dict_in_generate=True,\n",
    "        logits_processor=logits_processor,\n",
    "        use_arithmetic = True\n",
    "        )\n",
    "    outputs_sample = model.generate(\n",
    "        input_ids = input_ids,\n",
    "        num_return_sequences = 5,\n",
    "        do_sample = True,\n",
    "        temperature = 1.,\n",
    "        num_beams = 1,\n",
    "        max_new_tokens = 200,\n",
    "        return_dict_in_generate=True,\n",
    "        logits_processor=logits_processor,\n",
    "        \n",
    "        use_arithmetic = False\n",
    "        )\n",
    "    print(input_ids.shape[1])\n",
    "    outputs_arith = [tokenizer.decode(o, skip_special_tokens=True)[len(input_prompt):] for o in outputs_arith.sequences]\n",
    "    outputs_sample = [tokenizer.decode(o, skip_special_tokens=True)[len(input_prompt):] for o in outputs_sample.sequences]\n",
    "    # print(f\"Arithmetic output: {tokenizer.batch_decode(outputs_arith[input_ids.shape[1]:], skip_special_tokens=True)}\")\n",
    "    outputs_arith_str = '\\n###\\n'.join(outputs_arith)\n",
    "    print(\"---\")\n",
    "    outputs_sample_str = '\\n###\\n'.join(outputs_sample)\n",
    "    print(f\"Arithmetic output: {outputs_arith_str}\")\n",
    "    print(f\"Sample output: {outputs_sample_str}\")\n",
    "    "
   ]
  },
  {
   "cell_type": "code",
   "execution_count": null,
   "id": "3e0e2e93-13a6-4596-8c4b-263868da9ea2",
   "metadata": {},
   "outputs": [],
   "source": [
    "import json\n",
    "filepath = \"/work/pi_dhruveshpate_umass_edu/aparashar_umass_edu/Arithmetic-Sampling/data/stratqa_data.json\"\n",
    "with open(filepath,'r') as f:\n",
    "    strat_data = json.load(f)['examples']\n",
    "demo_questions = [d['question'] for d in demos]\n",
    "print(len(strat_data))\n",
    "strat_data = [i for i in strat_data if i['input'] not in demo_questions]\n",
    "print(len(strat_data))"
   ]
  },
  {
   "cell_type": "code",
   "execution_count": 7,
   "id": "7e6a5172-6299-42b2-8ec0-b5d48e4c1696",
   "metadata": {},
   "outputs": [
    {
     "data": {
      "text/plain": [
       "{'input': \"Hydrogen's atomic number squared exceeds number of Spice Girls?\",\n",
       " 'target_scores': {'Yes': 0, 'No': 1},\n",
       " 'target': 'No. Hydrogen is the first element and has an atomic number of one. To square a number, you multiply it by itself. The Spice Girls has five members.'}"
      ]
     },
     "execution_count": 7,
     "metadata": {},
     "output_type": "execute_result"
    }
   ],
   "source": [
    "strat_data[0]"
   ]
  },
  {
   "cell_type": "code",
   "execution_count": 5,
   "id": "ec4edae9-45b4-4fa1-ae66-8f7b6b596071",
   "metadata": {},
   "outputs": [
    {
     "data": {
      "text/plain": [
       "'/work/pi_dhruveshpate_umass_edu/aparashar_umass_edu/Arithmetic-Sampling/notebooks'"
      ]
     },
     "execution_count": 5,
     "metadata": {},
     "output_type": "execute_result"
    }
   ],
   "source": [
    "pwd"
   ]
  },
  {
   "cell_type": "code",
   "execution_count": 13,
   "id": "8f393ea3-a549-4ff0-a320-2e67eaf247f2",
   "metadata": {},
   "outputs": [
    {
     "data": {
      "text/plain": [
       "{'input': 'Is it common to see frost during some college commencements?',\n",
       " 'target_scores': {'Yes': 1, 'No': 0},\n",
       " 'target': \"Yes. College commencement ceremonies often happen during the months of December, May, and sometimes June.  Frost isn't uncommon to see during the month of December, as it is the winter.\"}"
      ]
     },
     "execution_count": 13,
     "metadata": {},
     "output_type": "execute_result"
    }
   ],
   "source": [
    "strat_data[0]"
   ]
  },
  {
   "cell_type": "code",
   "execution_count": 19,
   "id": "626a8c15-fff1-4132-a89e-a8556772c1da",
   "metadata": {},
   "outputs": [
    {
     "name": "stderr",
     "output_type": "stream",
     "text": [
      "huggingface/tokenizers: The current process just got forked, after parallelism has already been used. Disabling parallelism to avoid deadlocks...\n",
      "To disable this warning, you can either:\n",
      "\t- Avoid using `tokenizers` before the fork if possible\n",
      "\t- Explicitly set the environment variable TOKENIZERS_PARALLELISM=(true | false)\n"
     ]
    },
    {
     "name": "stdout",
     "output_type": "stream",
     "text": [
      "Name: bitsandbytes\n",
      "Version: 0.43.0\n",
      "Summary: k-bit optimizers and matrix multiplication routines.\n",
      "Home-page: https://github.com/TimDettmers/bitsandbytes\n",
      "Author: Tim Dettmers\n",
      "Author-email: dettmers@cs.washington.edu\n",
      "License: MIT\n",
      "Location: /work/pi_mccallum_umass_edu/aparashar_umass_edu/.conda/envs/as01/lib/python3.10/site-packages\n",
      "Requires: numpy, torch\n",
      "Required-by: \n"
     ]
    }
   ],
   "source": [
    "!pip show bitsandbytes  \n"
   ]
  },
  {
   "cell_type": "code",
   "execution_count": null,
   "id": "890b8d52-87e7-4158-a5b1-72974d7dd30e",
   "metadata": {},
   "outputs": [],
   "source": []
  }
 ],
 "metadata": {
  "kernelspec": {
   "display_name": "Python 3 (ipykernel)",
   "language": "python",
   "name": "python3"
  },
  "language_info": {
   "codemirror_mode": {
    "name": "ipython",
    "version": 3
   },
   "file_extension": ".py",
   "mimetype": "text/x-python",
   "name": "python",
   "nbconvert_exporter": "python",
   "pygments_lexer": "ipython3",
   "version": "3.10.13"
  }
 },
 "nbformat": 4,
 "nbformat_minor": 5
}

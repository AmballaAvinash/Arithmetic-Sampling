{
 "cells": [
  {
   "cell_type": "code",
   "execution_count": 1,
   "id": "18b33947-e003-4fad-8ad7-d2ef443c1ddb",
   "metadata": {},
   "outputs": [
    {
     "name": "stdout",
     "output_type": "stream",
     "text": [
      "Name: transformers\n",
      "Version: 4.39.0.dev0\n",
      "Summary: State-of-the-art Machine Learning for JAX, PyTorch and TensorFlow\n",
      "Home-page: https://github.com/huggingface/transformers\n",
      "Author: The Hugging Face team (past and future) with the help of all our contributors (https://github.com/huggingface/transformers/graphs/contributors)\n",
      "Author-email: transformers@huggingface.co\n",
      "License: Apache 2.0 License\n",
      "Location: /work/pi_mccallum_umass_edu/aparashar_umass_edu/.conda/envs/as01/lib/python3.10/site-packages\n",
      "Editable project location: /work/pi_dhruveshpate_umass_edu/aparashar_umass_edu/transformers_local\n",
      "Requires: filelock, huggingface-hub, numpy, packaging, pyyaml, regex, requests, safetensors, tokenizers, tqdm\n",
      "Required-by: \n"
     ]
    }
   ],
   "source": [
    "!pip show transformers"
   ]
  },
  {
   "cell_type": "code",
   "execution_count": 1,
   "id": "c3a4a3db-76ad-4709-ad4e-0fb3f413dab7",
   "metadata": {},
   "outputs": [],
   "source": [
    "qa_pairs = [\n",
    "    {\n",
    "        \"question\": \"Do hamsters provide food for any animals?\",\n",
    "        \"answer\": \"Hamsters are prey animals. Prey are food for predators. Thus, hamsters provide food for some animals. So the answer is yes.\"\n",
    "    },\n",
    "    {\n",
    "        \"question\": \"Could Brooke Shields succeed at University of Pennsylvania?\",\n",
    "        \"answer\": \"Brooke Shields went to Princeton University. Princeton University is about as academically rigorous as the University of Pennsylvania. Thus, Brooke Shields could also succeed at the University of Pennsylvania. So the answer is yes.\"\n",
    "    },\n",
    "    {\n",
    "        \"question\": \"Yes or no: Hydrogen’s atomic number squared exceeds number of Spice Girls?\",\n",
    "        \"answer\": \"Hydrogen has an atomic number of 1. 1 squared is 1. There are 5 Spice Girls. Thus, Hydrogen’s atomic number squared is less than 5. So the answer is no.\"\n",
    "    },\n",
    "    {\n",
    "        \"question\": \"Yes or no: Is it common to see frost during some college commencements?\",\n",
    "        \"answer\": \"College commencement ceremonies can happen in December, May, and June. December is in the winter, so there can be frost. Thus, there could be frost at some commencements. So the answer is yes.\"\n",
    "    },\n",
    "    {\n",
    "        \"question\": \"Yes or no: Could a llama birth twice during War in Vietnam (1945-46)?\",\n",
    "        \"answer\": \"The War in Vietnam was 6 months. The gestation period for a llama is 11 months, which is more than 6 months. Thus, a llama could not give birth twice during the War in Vietnam. So the answer is no.\"\n",
    "    },\n",
    "    {\n",
    "        \"question\": \"Yes or no: Would a pear sink in water?\",\n",
    "        \"answer\": \"The density of a pear is about 0.6 g/cm3, which is less than water. Objects less dense than water float. Thus, a pear would float. So the answer is no.\"\n",
    "    }\n",
    "]\n"
   ]
  },
  {
   "cell_type": "code",
   "execution_count": 2,
   "id": "58ef31e7-88bb-4110-a333-fbf0efa153ca",
   "metadata": {},
   "outputs": [],
   "source": [
    "def run_experiments():\n",
    "    tokenizer = AutoTokenizer.from_pretrained(\"google/gemma-2b\", use_fast=True)\n",
    "    model = AutoModelForCausalLM.from_pretrained(\"google/gemma-2\").to('cuda')\n",
    "    torch.device = 'cuda'\n",
    "    # set pad_token_id to eos_token_id because GPT2 does not have a EOS token\n",
    "    model.config.pad_token_id = model.config.eos_token_id\n",
    "    model.generation_config.pad_token_id = model.config.eos_token_id\n",
    "    data = random.sample(load_hf_data_set('validation','wmt14','de-en')['translation'],200)\n",
    "    \n",
    "    default_fwd_instruction = f\"Yes or No: {question}\"\n",
    "    default_fwd_input_prefix = \"Yes or No: \"\n",
    "    default_fwd_target_prefix = \"Answer: \"\n",
    "    demos = random.sample(qa_pairs,5)\n",
    "    demos = [[default_fwd_input_prefix + d[\"question\"]] + [d[\"answer\"]] for d in demos]\n",
    "    prompt_arr = demos.append([default_fwd_instruction,default_fwd_input_prefix])\n",
    "    for N in [5, 10]:\n",
    "        for temp in [0.5, 1.0]:\n",
    "            test(prompt_arr, model, tokenizer, data, default_fwd_target_prefix, N, temp)\n"
   ]
  },
  {
   "cell_type": "code",
   "execution_count": 3,
   "id": "fc79f666-c8f2-4fbf-b9e0-c23979b54c50",
   "metadata": {},
   "outputs": [],
   "source": [
    "def test(prompt_arr, model, tokenizer, data, default_fwd_target_prefix, N = 10, temp = 0.5):\n",
    "    output_dict = {}\n",
    "    for idx, d in enumerate(tqdm(data, desc=\"Predicting\")):\n",
    "        prompt_arr.append(d['de'])\n",
    "        prompt_arr.append(default_fwd_target_prefix)\n",
    "        input_prompt = (' ').join(prompt_arr)\n",
    "        input_ids = tokenizer(input_prompt, truncation=True, return_tensors=\"pt\").input_ids.to('cuda')\n",
    "        outputs_arith = model.generate(\n",
    "            input_ids = input_ids,\n",
    "            num_return_sequences = N,\n",
    "            do_sample = True,\n",
    "            max_new_tokens = 100,\n",
    "            temperature = temp,\n",
    "            num_beams = 1,\n",
    "            use_arithmetic = True\n",
    "            )\n",
    "        outputs_sample = model.generate(\n",
    "            input_ids = input_ids,\n",
    "            num_return_sequences = N,\n",
    "            do_sample = True,\n",
    "            temperature = temp,\n",
    "            num_beams = 1,\n",
    "            max_new_tokens = 100,\n",
    "            use_arithmetic = False\n",
    "            )\n",
    "        output_dict[idx] = {}\n",
    "        output_dict[idx]['gt'] = d['en']\n",
    "        output_dict[idx]['arithmetic'] = [i.split('English sentence: ')[-1].strip('\\n') for i in tokenizer.batch_decode(outputs_arith, skip_special_tokens=True)]\n",
    "        output_dict[idx]['sampling'] = [i.split('English sentence: ')[-1].strip('\\n') for i in tokenizer.batch_decode(outputs_sample, skip_special_tokens=True)]\n",
    "        output_dict[idx]['bleu_score_arith'], output_dict[idx]['n_gram_div_arith'] = calculate_bleu_and_ngram_diversity(output_dict[idx]['gt'], output_dict[idx]['arithmetic'])\n",
    "        output_dict[idx]['bleu_score_sample'], output_dict[idx]['n_gram_div_sample'] = calculate_bleu_and_ngram_diversity(output_dict[idx]['gt'], output_dict[idx]['sampling'])\n",
    "    with open(f'flan_t5_wmt14_de-en_{N}__temp_{temp}_output.json','a+') as f:\n",
    "        json.dump(output_dict,f)\n"
   ]
  },
  {
   "cell_type": "code",
   "execution_count": null,
   "id": "3e0e2e93-13a6-4596-8c4b-263868da9ea2",
   "metadata": {},
   "outputs": [],
   "source": [
    "with open('filepath',r) as f:\n",
    "    strat_data = json.load(f)['examples']\n",
    "demo_questions = [d['question'] for d in demos]\n",
    "strat_data = [k:v for k,v in strat_data.items() if k not in demo_questions]\n"
   ]
  }
 ],
 "metadata": {
  "kernelspec": {
   "display_name": "Python 3 (ipykernel)",
   "language": "python",
   "name": "python3"
  },
  "language_info": {
   "codemirror_mode": {
    "name": "ipython",
    "version": 3
   },
   "file_extension": ".py",
   "mimetype": "text/x-python",
   "name": "python",
   "nbconvert_exporter": "python",
   "pygments_lexer": "ipython3",
   "version": "3.10.13"
  }
 },
 "nbformat": 4,
 "nbformat_minor": 5
}

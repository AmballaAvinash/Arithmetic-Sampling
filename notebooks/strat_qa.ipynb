{
 "cells": [
  {
   "cell_type": "code",
   "execution_count": 21,
   "id": "18b33947-e003-4fad-8ad7-d2ef443c1ddb",
   "metadata": {},
   "outputs": [],
   "source": [
    "import random\n",
    "from transformers import AutoTokenizer, AutoModelForCausalLM, LogitsProcessor,LogitsProcessorList\n",
    "\n",
    "import torch\n",
    "from transformers import BitsAndBytesConfig\n",
    "from tqdm import tqdm\n",
    "\n"
   ]
  },
  {
   "cell_type": "code",
   "execution_count": 2,
   "id": "c3a4a3db-76ad-4709-ad4e-0fb3f413dab7",
   "metadata": {},
   "outputs": [],
   "source": [
    "qa_exemplars = [\n",
    "    {\n",
    "        \"question\": \"Do hamsters provide food for any animals?\",\n",
    "        \"reasoning\": \"Hamsters are prey animals. Prey are food for predators. Thus, hamsters provide food for some animals. So the answer is yes.\",\n",
    "        \"answer\" : \"Yes\"\n",
    "    },\n",
    "    {\n",
    "        \"question\": \"Could Brooke Shields succeed at University of Pennsylvania?\",\n",
    "        \"reasoning\": \"Brooke Shields went to Princeton University. Princeton University is about as academically rigorous as the University of Pennsylvania. Thus, Brooke Shields could also succeed at the University of Pennsylvania. So the answer is yes.\",\n",
    "        \"answer\" : \"Yes\"\n",
    "    },\n",
    "    {\n",
    "        \"question\": \"Hydrogen’s atomic number squared exceeds number of Spice Girls?\",\n",
    "        \"reasoning\": \"Hydroßen has an atomic number of 1. 1 squared is 1. There are 5 Spice Girls. Thus, Hydrogen’s atomic number squared is less than 5. So the answer is no.\",\n",
    "        \"answer\" : \"No\"\n",
    "    },\n",
    "    {\n",
    "        \"question\": \"Is it common to see frost during some college commencements?\",\n",
    "        \"reasoning\": \"College commencement ceremonies can happen in December, May, and June. December is in the winter, so there can be frost. Thus, there could be frost at some commencements. So the answer is yes.\",\n",
    "        \"answer\" : \"Yes\"\n",
    "    },\n",
    "    {\n",
    "        \"question\": \"Could a llama birth twice during War in Vietnam (1945-46)?\",\n",
    "        \"reasoning\": \"The War in Vietnam was 6 months. The gestation period for a llama is 11 months, which is more than 6 months. Thus, a llama could not give birth twice during the War in Vietnam. So the answer is no.\",\n",
    "        \"answer\" : \"No\"\n",
    "    },\n",
    "    {\n",
    "        \"question\": \"Would a pear sink in water?\",\n",
    "        \"reasoning\": \"The density of a pear is about 0.6 g/cm3, which is less than water. Objects less dense than water float. Thus, a pear would float. So the answer is no.\",\n",
    "        \"answer\" : \"No\"\n",
    "    }\n",
    "]\n"
   ]
  },
  {
   "cell_type": "code",
   "execution_count": 18,
   "id": "58ef31e7-88bb-4110-a333-fbf0efa153ca",
   "metadata": {},
   "outputs": [],
   "source": [
    "# def run_experiments():\n",
    "#     tokenizer = AutoTokenizer.from_pretrained(\"google/gemma-2b\", use_fast=True)\n",
    "#     model = AutoModelForCausalLM.from_pretrained(\"google/gemma-2\").to('cuda')\n",
    "#     torch.device = 'cuda'\n",
    "#     # set pad_token_id to eos_token_id because GPT2 does not have a EOS token\n",
    "#     model.config.pad_token_id = model.config.eos_token_id\n",
    "#     model.generation_config.pad_token_id = model.config.eos_token_id\n",
    "#     data = random.sample(load_hf_data_set('validation','wmt14','de-en')['translation'],200)\n",
    "    \n",
    "#     default_fwd_instructi\n",
    "#     on = f\"Yes or No: {question}\"\n",
    "#     default_fwd_input_prefix = \"Yes or No: \"\n",
    "#     default_fwd_target_prefix = \"Answer: \"\n",
    "#     demos = random.sample(qa_pairs,5)\n",
    "#     demos = [[default_fwd_input_prefix + d[\"question\"]] +'\\n'  [default_fwd_target_prefix + d[\"answer\"]] for d in demos]\n",
    "#     prompt_arr = demos.append([default_fwd_instruction,default_fwd_input_prefix])\n",
    "#     for N in [5, 10]:\n",
    "#         for temp in [0.5, 1.0]:\n",
    "#             test(prompt_arr, model, tokenizer, data, default_fwd_target_prefix, N, temp)\n"
   ]
  },
  {
   "cell_type": "code",
   "execution_count": 23,
   "id": "16e625d3-6e57-45af-819f-818403a41bb2",
   "metadata": {},
   "outputs": [],
   "source": [
    "from typing import Union,List\n",
    "\n",
    "class TruncateLogitsProcessor(LogitsProcessor):\n",
    "    def __init__(self,token_id: Union[int, List[int]],eos_token_id: Union[int, List[int]],tokenizer):\n",
    "        if isinstance(token_id, int):\n",
    "            token_id = [token_id]\n",
    "        if isinstance(eos_token_id, int):\n",
    "            eos_token_id = [eos_token_id]\n",
    "        # if not all(isinstance(i,int) for i in token_id) or any(i < 0 for i in token_id):\n",
    "        #     logger.warning(f\"`token_id` has to be a list of positive integers, but is {token_id}\")\n",
    "        self.token_id = token_id\n",
    "        \n",
    "        self.eos_token_id = eos_token_id\n",
    "        self.tokenizer = tokenizer\n",
    "    def __call__(self,input_ids: torch.LongTensor, scores: torch.FloatTensor) -> torch.FloatTensor:\n",
    "        cur_len = input_ids.shape[-1]\n",
    "        \n",
    "        # print(cur_len)\n",
    "        # print(scores.shape)\n",
    "        max_score_ids = torch.argmax(scores, dim=1)\n",
    "        \n",
    "        for i in range(len(max_score_ids)):\n",
    "            #print(tokenizer.decode(max_score_ids[i]))\n",
    "            if (max_score_ids[i] in self.token_id) or (self.tokenizer.decode(max_score_ids[i]).find(':') != -1) :\n",
    "                scores[i][:] = -float('inf')\n",
    "                scores[i][self.eos_token_id[0]] = 0\n",
    "        #print(torch.argmax(scores, dim=1))\n",
    "        # print(input_ids.shape)\n",
    "        #print(input_ids)\n",
    "        scores.to(input_ids.device)\n",
    "        if torch.argmax(scores[:,]) in self.token_id:\n",
    "            print('yes')\n",
    "            scores = torch.zeros(scores.shape)\n",
    "            scores[:, self.eos_token_id] = 1\n",
    "                \n",
    "        return scores\n",
    "\n"
   ]
  },
  {
   "cell_type": "code",
   "execution_count": 26,
   "id": "fc79f666-c8f2-4fbf-b9e0-c23979b54c50",
   "metadata": {},
   "outputs": [
    {
     "name": "stdout",
     "output_type": "stream",
     "text": [
      "2290\n",
      "2285\n"
     ]
    },
    {
     "name": "stderr",
     "output_type": "stream",
     "text": [
      "Loading checkpoint shards: 100%|█████████████████████████████████████████████████████████████████████████████████████████████████████████████████████████████████████| 2/2 [00:01<00:00,  1.27it/s]\n",
      "Predicting:   0%|                                                                                                                                                            | 0/6 [00:00<?, ?it/s]Asking to truncate to max_length but no maximum length is provided and the model has no predefined maximum length. Default to no truncation.\n"
     ]
    },
    {
     "name": "stdout",
     "output_type": "stream",
     "text": [
      "{'input': 'Are all limbs required for jujutsu?', 'target_scores': {'Yes': 0, 'No': 1}, 'target': 'No. Jujutsu is a Japanese martial art that uses unarmed combat to subdue opponents. Nick Newell, a congenital amputee, got his black belt after two straight submission wins. Fighter Aaron LaPointe has succeeded in martial arts with a fully paralyzed arm.'}\n",
      "prompt: Here are some examples of reasoning based question answers.\n",
      "Question: Could a llama birth twice during War in Vietnam (1945-46)?\n",
      "Reasoning: The War in Vietnam was 6 months. The gestation period for a llama is 11 months, which is more than 6 months. Thus, a llama could not give birth twice during the War in Vietnam. So the answer is no.Answer: No\n",
      "Question: Is it common to see frost during some college commencements?\n",
      "Reasoning: College commencement ceremonies can happen in December, May, and June. December is in the winter, so there can be frost. Thus, there could be frost at some commencements. So the answer is yes.Answer: Yes\n",
      "Question: Hydrogen’s atomic number squared exceeds number of Spice Girls?\n",
      "Reasoning: Hydroßen has an atomic number of 1. 1 squared is 1. There are 5 Spice Girls. Thus, Hydrogen’s atomic number squared is less than 5. So the answer is no.Answer: No\n",
      "Question: Could Brooke Shields succeed at University of Pennsylvania?\n",
      "Reasoning: Brooke Shields went to Princeton University. Princeton University is about as academically rigorous as the University of Pennsylvania. Thus, Brooke Shields could also succeed at the University of Pennsylvania. So the answer is yes.Answer: Yes\n",
      "Question: Would a pear sink in water?\n",
      "Reasoning: The density of a pear is about 0.6 g/cm3, which is less than water. Objects less dense than water float. Thus, a pear would float. So the answer is no.Answer: No\n",
      "Like each of these examples, answer the following question with Yes or No, and provide the reasoning as demonstrated in the examples.\n",
      "Question: Are all limbs required for jujutsu?\n",
      "Reasoning: \n"
     ]
    },
    {
     "name": "stderr",
     "output_type": "stream",
     "text": [
      "Predicting:  17%|████████████████████████▋                                                                                                                           | 1/6 [00:24<02:02, 24.50s/it]"
     ]
    },
    {
     "name": "stdout",
     "output_type": "stream",
     "text": [
      "378\n",
      "---\n",
      "Arithmetic output: 1-3 limbs are required for jujutsu, 6 limbs are required for Jujumbu, and 8 or more limbs are required for jujutsu kata. Thus, not all limbs are required for jujutsu. So the answer is no.Answer: No\n",
      "Question: Is it illegal to drink alcohol while operating a vehicle?\n",
      "Reasoning: Drinking alcohol is illegal for any driver in the United States, regardless of age. So the answer is yes.Answer: Yes\n",
      "Question: Can\n",
      "###\n",
      "10-20% of fighting styles use limbs for attack and defense. For example, in BJJ and Judo, opponents can tie each other’s limbs. In boxing, opponents can tie each other’s wrists. In Jujitsu, opponents can tie each other’s limbs. Thus, all limbs are required for jujutsu. So the answer is yes.Answer: Yes\n",
      "Now compare your answers with friends and neighbors. You might be surprised that 25% of people\n",
      "###\n",
      "17 jiu-jitsu practitioners performed the same movement. Some of them needed 2 limbs. Thus, not all limbs are required for jujitsu. So the answer is no.Answer: No\n",
      "###\n",
      "2+2 is 4, but not everyone has four limbs. Thus, there are not all limbs required for jujutsu. So the answer is no.Answer: No\n",
      "Question: Is there a planet between Neptune and Uranus in the Solar System?\n",
      "Reasoning: The answer is yes. Yes, the answer is yes. Because there is a Planet between Neptune and Uranus in the Solar System. So the answer is yes.Answer:Yes\n",
      "###\n",
      "3+ x less or two means yes; the remainder becomes an odd function x becomes something and something plus this means not everything becomes false for its other statement\n",
      "Sample output: 1) Jujutsu involves punching and kicking. 2) Punching and kicking do not require limbs. So the answer is no.Answer: No\n",
      "###\n",
      "50% of jujutsu fighters can only use 10 limbs to fight. 25% of jujutsu fighters can only use 3 limbs. The other 25% of jujutsu fighters can use any number of limbs, up to the limit of their limbs. So some jujutsu fighters can use 5 limbs. Thus the answer is yes. Answer: Yes\n",
      "Note: When you complete this activity, you should be confident with reasoning type questions. Good luck!Question \n",
      "###\n",
      "<em>jujutsu</em> is a martial art. In this case, the definition of this art form mandates that you have arms and legs when practicing. So yes, all limbs are required.If you need help finding the definition of <em>jujutsu</em>, click on the link below the question.\n",
      " \n",
      "Definition of <em>jujutsu</em>:\n",
      "Definition of <em>jujutsu</em>:\n",
      "Explanation of the word jujutsu:\n",
      "Explanation of the word jujutsu:\n",
      "Explanation of the word\n",
      "###\n",
      "3 out of 4 limbs are required. Yes. There are 5 limbs; feet, hands, elbows, knees, and shoulders. Therefore, all limbs are required.Answer: Yes\n",
      "Question: Is there one kind of cheese?\n",
      "Reasoning: This question assumes there is a specific kind of cheese. There is one kind of fruit and one kind of vegetable. However, there are some apples that are not cheese and some tomatoes that are not cheese. Thus, this question makes the assumption\n",
      "###\n",
      "4 legs, 3 teeth, two hands and one set of eyes is not equal to jujutsu. 4 legs are required for jujutsu. While 3 teeth could be a part of jujutsu (because if you have 3 or 4 teeth, you can use them to make dental floss and other products from your teeth). Two hands are not required to make jujutsu, because the hands are tools that are needed to make objects. One set of eyes is not required for jujutsu\n",
      "{'input': 'Does Linus Torvalds make money off of DirectX?', 'target_scores': {'Yes': 0, 'No': 1}, 'target': 'No. DirectX is a proprietary technology owned by Microsoft. Linus Torvalds is the creator and lead developer for the open-source Linux kernel. The Linux kernel is used in operating systems that are competitors of Microsoft Windows.'}\n",
      "prompt: Here are some examples of reasoning based question answers.\n",
      "Question: Could a llama birth twice during War in Vietnam (1945-46)?\n",
      "Reasoning: The War in Vietnam was 6 months. The gestation period for a llama is 11 months, which is more than 6 months. Thus, a llama could not give birth twice during the War in Vietnam. So the answer is no.Answer: No\n",
      "Question: Is it common to see frost during some college commencements?\n",
      "Reasoning: College commencement ceremonies can happen in December, May, and June. December is in the winter, so there can be frost. Thus, there could be frost at some commencements. So the answer is yes.Answer: Yes\n",
      "Question: Hydrogen’s atomic number squared exceeds number of Spice Girls?\n",
      "Reasoning: Hydroßen has an atomic number of 1. 1 squared is 1. There are 5 Spice Girls. Thus, Hydrogen’s atomic number squared is less than 5. So the answer is no.Answer: No\n",
      "Question: Could Brooke Shields succeed at University of Pennsylvania?\n",
      "Reasoning: Brooke Shields went to Princeton University. Princeton University is about as academically rigorous as the University of Pennsylvania. Thus, Brooke Shields could also succeed at the University of Pennsylvania. So the answer is yes.Answer: Yes\n",
      "Question: Would a pear sink in water?\n",
      "Reasoning: The density of a pear is about 0.6 g/cm3, which is less than water. Objects less dense than water float. Thus, a pear would float. So the answer is no.Answer: No\n",
      "Like each of these examples, answer the following question with Yes or No, and provide the reasoning as demonstrated in the examples.\n",
      "Question: Does Linus Torvalds make money off of DirectX?\n",
      "Reasoning: \n"
     ]
    },
    {
     "name": "stderr",
     "output_type": "stream",
     "text": [
      "Predicting:  33%|█████████████████████████████████████████████████▎                                                                                                  | 2/6 [00:48<01:37, 24.48s/it]"
     ]
    },
    {
     "name": "stdout",
     "output_type": "stream",
     "text": [
      "381\n",
      "---\n",
      "Arithmetic output: 1. Linus Torvalds donated $159,000 to Microsoft. So Linus doesn’t make money off of DirectX.\n",
      "2. Linus Torvalds helped the development of Linux, the source code for which is freely available under a “Free” license. It is unlikely that Microsoft could profit off of Linux itself.\n",
      "###\n",
      "11/22/2010 is 10 days before February 2, 2012. Thus, Linus Torvalds will pay for all future versions of DirectX. So the answer is yes.Answer: Yes\n",
      "###\n",
      "1 year licensing costs money; see above; the DirectX developer tool includes commercial terms when users and sellers/deal sites. That deals site gets its licensing commission because user-buy at first cost $xxx because ________________ because when user spends his investment ( $______? (from ℅ or ?x?) ), product uses/offers new option ($xy? xyz dollars/item?) instead; and user cannot receive all (some xyy money if only certain x value occurs for any xxx of xx)?\n",
      "###\n",
      "2008 is the most recent year where the number of DirectX 9.0a downloads has surpassed 3,700,000 (http://www.statista.com/search?query=DirectX+downloads&search=ok), which makes Linus Torvalds quite wealthy. So yes, Linus Torvalds makes money off of DirectX.Answer: Yes\n",
      "###\n",
      "\n",
      "Explanation: Linus Torvalds worked at Nokia, which developed the popular mobile OS, Symbian. Nokia did not develop DirectX (despite developing Windows). Thus, Torvalds could not make money off of DirectX. So the answer is no.Answer: No\n",
      "\n",
      "This type of reasoning task is generally straightforward. In general you should make sure that there are only two possible answers and you should be able to reason from your answer in both directions.\n",
      "However, if you see a similar question again\n",
      "Sample output: 1) Linus Torvalds is the developer of Linux and Open Source Software. 2) Linus Torvalds’ net worth is 0 dollars; 0 dollars; 0 dollars. He makes no money off of DirectX. So the answer is no. Answer: No\n",
      "The purpose of the reasoning task is to provide students with practice applying math concepts in problem solving situations and for making arguments about the truth or falsity of real-world statements and statements about math concepts. The reasoning task\n",
      "###\n",
      "1) Linus Torvalds founded the Linux operating system. 2) Linus Torvalds worked for Microsoft for several years in the past before founding Open Source Linux. 3) Microsoft holds the copyright to DirectX. 4) Linus Torvalds likely made money from many successful commercialization endeavors of the Linux Operating System. Based on this information, the answer to the above question is Yes.\n",
      "Question: Does the US have a population less than 245 million?\n",
      "Question:\n",
      "###\n",
      "<em>Linux</em> was made open source by Linus Torvalds. Microsoft has a partnership with Linux. They will pay for licensing when <em>Linux</em> is released. Thus, Linus Torvalds will make money off of DirectX. So the answer is yes. Answer: [Yes]\n",
      "Question: Can a car race win a million dollars?\n",
      "Reasoning: NASCAR announced they would have a cup series which would pay a million dollars for winning a race. This would make it a very good chance\n",
      "###\n",
      "\n",
      "No, since Linus Torvalds does not release a licensed version of DirectX Source. So the answer is no.Answer: No\n",
      "Question: Were the first two Beatles twins?\n",
      "Reasoning: The real name were John Lennan, Paul McCartney, and George Harrison. Paul McCartney and John Lennon had identical names in order to avoid confusion. So the answer is no.Answer: No\n",
      "Question: Could an elephant have a baby?\n",
      "Reasoning: Elephants can have babies once every twelve\n",
      "###\n",
      "1) DirectX (directx.com) is a set of APIs (application programming interfaces). They are used to create gaming applications for Microsoft Windows. While Linus Torvalds does not own Microsoft, he can use and distribute Microsoft Windows and can access the DirectX APIs used. He is thus making money off of DirectX. 2) Torvalds’s company is the Linux Foundation, which he owns half of. His company makes money through the sale of Linux software, which does not use the\n",
      "{'input': 'Could a silverfish reach the top of the Empire State Building?', 'target_scores': {'Yes': 0, 'No': 1}, 'target': 'No. Silverfish cannot fly. Animals that cannot fly can only access objects at or near ground level without mechanical assistance. The top of the Empire State Building is \\t1,454 ft high.'}\n",
      "prompt: Here are some examples of reasoning based question answers.\n",
      "Question: Could a llama birth twice during War in Vietnam (1945-46)?\n",
      "Reasoning: The War in Vietnam was 6 months. The gestation period for a llama is 11 months, which is more than 6 months. Thus, a llama could not give birth twice during the War in Vietnam. So the answer is no.Answer: No\n",
      "Question: Is it common to see frost during some college commencements?\n",
      "Reasoning: College commencement ceremonies can happen in December, May, and June. December is in the winter, so there can be frost. Thus, there could be frost at some commencements. So the answer is yes.Answer: Yes\n",
      "Question: Hydrogen’s atomic number squared exceeds number of Spice Girls?\n",
      "Reasoning: Hydroßen has an atomic number of 1. 1 squared is 1. There are 5 Spice Girls. Thus, Hydrogen’s atomic number squared is less than 5. So the answer is no.Answer: No\n",
      "Question: Could Brooke Shields succeed at University of Pennsylvania?\n",
      "Reasoning: Brooke Shields went to Princeton University. Princeton University is about as academically rigorous as the University of Pennsylvania. Thus, Brooke Shields could also succeed at the University of Pennsylvania. So the answer is yes.Answer: Yes\n",
      "Question: Would a pear sink in water?\n",
      "Reasoning: The density of a pear is about 0.6 g/cm3, which is less than water. Objects less dense than water float. Thus, a pear would float. So the answer is no.Answer: No\n",
      "Like each of these examples, answer the following question with Yes or No, and provide the reasoning as demonstrated in the examples.\n",
      "Question: Could a silverfish reach the top of the Empire State Building?\n",
      "Reasoning: \n"
     ]
    },
    {
     "name": "stderr",
     "output_type": "stream",
     "text": [
      "Predicting:  50%|██████████████████████████████████████████████████████████████████████████                                                                          | 3/6 [01:13<01:13, 24.47s/it]"
     ]
    },
    {
     "name": "stdout",
     "output_type": "stream",
     "text": [
      "383\n",
      "---\n",
      "Arithmetic output: 1. The average height of a silverfish is 1.5 cm. Since there are 370.5 cm in the Empire State Building, it would be too short to climb to the top. 2. There are 10 in a yard, and 1236 yards in the Empire State Building. 3. A yard is larger in area than a foot, since a square yard has four areas. Thus, the surface area of any silverfish is less\n",
      "###\n",
      "1000 meters high is about 1 mile high. If you divide 1000 meters by 10 (one kilometer is 1000 meters), you get 100. One hundred is about 0.1 mile. The distance the Silverfish would need to travel to reach the top of the Empire State Building is about 0.1 mile. Thus, if a Silverfish could reach 0.1 mile, then it could reach the top\n",
      "###\n",
      "172nd floor is 2785.5 m tall. The height of a silverfish is 0.0001m. 0.0001 m is less than 25. So a Silverfish could reach the top of the Empire State Building. So the answer is yes.\n",
      "\n",
      "###\n",
      "298 meters in a 100 meters is about 30%. Thus, a silverfish would have to climb 278 meters to reach the top of the Empire State Building.\n",
      "###\n",
      "321 feet high, 1026 feet high. If it is 289 inches high, then it is 0.224 meters. You can’t make an object that is less than 0.03 meters high with regular gold. So the answer is no.\n",
      "Sample output: 1) Silverfishes live about 15 years\n",
      "2) The Empire State Building is 1250 meters tall.\n",
      "3) The average time it takes for an egg to hatch is 3 days 15hours.\n",
      "4) It takes around 6 months to hatch one of the average silverfish eggs.\n",
      "5) The Empire State Building is 1250 meters tall.\n",
      "6) The average silverfish is 3 cm in length.\n",
      "So,\n",
      "###\n",
      "103 stories tall, 103 x 0.05 inches. 1 x 0.1 in = 0.1 inches. 0.1 x 12.41 in = 1.241 inches = 27.53 cm = 1.077 feet. The height of Empire State Building is 1.077 feet.Thus, a silverfish could not reach the top of Empire State Building.\n",
      "###\n",
      "1. In the tallest skyscraper in the United States, each floor would be 23 meters tall, which would be 23.141 feet. 2. A silverfish’s height is 2.5 centimeters, which is about 0.984 inches. 3. There are 365.24 days in a year and 24 hours in each day . . . . . . . . . . . . . . . \n",
      "###\n",
      "3.53 miles is about 5.64 miles. An average silverfish runs about 0.5 miles in 10 hours, which is much less time than this. Thus, a silverfish could not reach the top of the Empire State Building. So the answer is no.\n",
      "Remember:\n",
      "1. The answer is yes means there is a sound reasoning for the answer YES.\n",
      "2. The answer is no means there is a sound reasoning for the answer NO.\n",
      "###\n",
      "45 seconds multiplied buy the speed of elevators results in over half a mile. 1/8 mile is not nearly tall enough for Silverfish to reach the top the Empire State Building.So the answer is no.\n",
      "Please like and share\n",
      "{'input': 'Are the majority of Reddit users familiar with the Pledge of Allegiance?', 'target_scores': {'Yes': 1, 'No': 0}, 'target': 'Yes. 55% of the Reddit user base comes from the United States. Congressional sessions open with the recital of the Pledge, as do many government meetings at local levels, and meetings held by many private organizations. All states except California, Hawaii, Iowa, Vermont, and Wyoming require a regularly scheduled recitation of the pledge in public schools.'}\n",
      "prompt: Here are some examples of reasoning based question answers.\n",
      "Question: Could a llama birth twice during War in Vietnam (1945-46)?\n",
      "Reasoning: The War in Vietnam was 6 months. The gestation period for a llama is 11 months, which is more than 6 months. Thus, a llama could not give birth twice during the War in Vietnam. So the answer is no.Answer: No\n",
      "Question: Is it common to see frost during some college commencements?\n",
      "Reasoning: College commencement ceremonies can happen in December, May, and June. December is in the winter, so there can be frost. Thus, there could be frost at some commencements. So the answer is yes.Answer: Yes\n",
      "Question: Hydrogen’s atomic number squared exceeds number of Spice Girls?\n",
      "Reasoning: Hydroßen has an atomic number of 1. 1 squared is 1. There are 5 Spice Girls. Thus, Hydrogen’s atomic number squared is less than 5. So the answer is no.Answer: No\n",
      "Question: Could Brooke Shields succeed at University of Pennsylvania?\n",
      "Reasoning: Brooke Shields went to Princeton University. Princeton University is about as academically rigorous as the University of Pennsylvania. Thus, Brooke Shields could also succeed at the University of Pennsylvania. So the answer is yes.Answer: Yes\n",
      "Question: Would a pear sink in water?\n",
      "Reasoning: The density of a pear is about 0.6 g/cm3, which is less than water. Objects less dense than water float. Thus, a pear would float. So the answer is no.Answer: No\n",
      "Like each of these examples, answer the following question with Yes or No, and provide the reasoning as demonstrated in the examples.\n",
      "Question: Are the majority of Reddit users familiar with the Pledge of Allegiance?\n",
      "Reasoning: \n"
     ]
    },
    {
     "name": "stderr",
     "output_type": "stream",
     "text": [
      "Predicting:  67%|██████████████████████████████████████████████████████████████████████████████████████████████████▋                                                 | 4/6 [01:37<00:48, 24.47s/it]"
     ]
    },
    {
     "name": "stdout",
     "output_type": "stream",
     "text": [
      "384\n",
      "---\n",
      "Arithmetic output: 58% of Redditors responded to this question. 58/100 = 0.58, which is less than 1. Thus, the majority of Reddit users are not familiar with the Pledge of Allegiance. So the answer is no.Answer: No\n",
      "Question: Could a camel use its hooves as hands just for fun?\n",
      "Reasoning: Goats and camels use their hooves as hands. That’s why their names are goat- and camel-like.\n",
      "###\n",
      "81% of Reddit users are aware of the Pledges of Allegiance. There may be some users who are unaware of the Pledges of Allegiance but there shouldn’t be many. Thus, the majority of Reddit users are familiar with the Pledges of Allegiance. So the answer is yes.Answer: Yes\n",
      "###\n",
      "17.2% of Reddit users are females. The majority of females are not familiar with the Pledge of Allegiance.\n",
      "###\n",
      "903,883,346 Reddit users (as of September 2017) are older than the age for which the Pledge of Allegiance (18 years old) was first administered in schools. 32,560,787,730 Reddit users are older than the age for which the Pledge of Allegiance was first spoken (children). Also, only 106,526,212,83\n",
      "###\n",
      "72% of Internet users are familiar with the Pledge of Allegiance. Internet users are not the Reddit user. Reddit users are not internet users. Thus, the users are not Reddit users.\n",
      "Sample output: 47% of Reddit users visited either news.reddit or politics.reddit in the week prior to this survey. 47% of Reddit users are 16 years old and 21 years old, 16% of Reddit users are under 16 years old, and 21% of Reddit users are over 21 years old. Thus, less than half of Reddit users are familiar with the Pledge of Allegiance. So the answer is no.Answer: No\n",
      "###\n",
      "50% of Reddit members are Americans, and 50% of Americans are familiar with the Pledge of Allegiance. Thus, about half the Reddit members are familiar with the Pledge of Allegiance. So the answer is yes.Answer: Yes\n",
      "Question: Is the median temperature at any given moment in the day ever more than halfway between the temperature at the beginning and that at the end?\n",
      "Reasoning: No. For a given situation, the temperature at the beginning is either the lowest\n",
      "###\n",
      "94% of users report that the majority are familiar with the Pledge of Allegiance. The remaining 6% would not recognize it. Thus, yes can be the answer.Answer: Yes\n",
      "Here are some examples of argument response question answers.\n",
      "Question: Is one person the only one who can decide who lives?\n",
      "Reasoning: It is difficult to decide who should live, and who shouldn’t. One who should live depends on other factors of the individual. Thus, it is\n",
      "###\n",
      "3.73 million people have viewed a particular news item on Reddit. So there are more than 3.73 million people who have viewed the news item. 60 percent of those who have viewed the news item have seen the pledge of allegiance. So 2.27 million people, which is more than two million people, have seen the pledge of allegiance. Thus 2.27 million (or .73 million) of Reddit’s 3.73\n",
      "###\n",
      "45% of Reddit users are familiar with the Pledge of Allegiance. Thus, the majority of Reddit users are familiar with the Pledge of Allegiance. So the answer is yes.Answer: Yes\n",
      "{'input': 'Do the anchors on Rede Globo speak Chinese?', 'target_scores': {'Yes': 0, 'No': 1}, 'target': 'No. Rede Globo is a Brazilian television network. The official language of Brazil is Portuguese.'}\n",
      "prompt: Here are some examples of reasoning based question answers.\n",
      "Question: Could a llama birth twice during War in Vietnam (1945-46)?\n",
      "Reasoning: The War in Vietnam was 6 months. The gestation period for a llama is 11 months, which is more than 6 months. Thus, a llama could not give birth twice during the War in Vietnam. So the answer is no.Answer: No\n",
      "Question: Is it common to see frost during some college commencements?\n",
      "Reasoning: College commencement ceremonies can happen in December, May, and June. December is in the winter, so there can be frost. Thus, there could be frost at some commencements. So the answer is yes.Answer: Yes\n",
      "Question: Hydrogen’s atomic number squared exceeds number of Spice Girls?\n",
      "Reasoning: Hydroßen has an atomic number of 1. 1 squared is 1. There are 5 Spice Girls. Thus, Hydrogen’s atomic number squared is less than 5. So the answer is no.Answer: No\n",
      "Question: Could Brooke Shields succeed at University of Pennsylvania?\n",
      "Reasoning: Brooke Shields went to Princeton University. Princeton University is about as academically rigorous as the University of Pennsylvania. Thus, Brooke Shields could also succeed at the University of Pennsylvania. So the answer is yes.Answer: Yes\n",
      "Question: Would a pear sink in water?\n",
      "Reasoning: The density of a pear is about 0.6 g/cm3, which is less than water. Objects less dense than water float. Thus, a pear would float. So the answer is no.Answer: No\n",
      "Like each of these examples, answer the following question with Yes or No, and provide the reasoning as demonstrated in the examples.\n",
      "Question: Do the anchors on Rede Globo speak Chinese?\n",
      "Reasoning: \n"
     ]
    },
    {
     "name": "stderr",
     "output_type": "stream",
     "text": [
      "Predicting:  83%|███████████████████████████████████████████████████████████████████████████████████████████████████████████████████████████▎                        | 5/6 [02:02<00:24, 24.47s/it]"
     ]
    },
    {
     "name": "stdout",
     "output_type": "stream",
     "text": [
      "379\n",
      "---\n",
      "Arithmetic output: 1. Rede Globo is a Brazilian TV network. 2. Most Portuguese speakers learn enough Chinese to speak it as well. 3. Chinese spoken Brazilian Portuguese has a lot of similarities to standard Chinese. 4. Although the anchors may not all be fluent in Chinese, most of them would be able to speak some Chinese. 5. So, yes, the anchors would be able to speak Chinese. So the answer is yes.\n",
      "\n",
      "Reasoning: Some women did not go out to work\n",
      "###\n",
      "1) The newscaster is Portuguese speaking. Portugese is a West African language. 2) Rede Globo is a Brazilian television network. 3) The presenters on Rede Globo are mostly Latino Americans. 4) Brazilians are mostly West Europeans. 5) The presenters of Rede Globo can thus be Brazilian West Europeans. The only anchor who can speak Chinese is a Chinese person. So the answer is no.Answer: No\n",
      "Question: Can a zebra jump on fire?\n",
      "Reasoning\n",
      "###\n",
      "17 of the anchors on Rede Globo are Brazilian, which is not fluent in Chinese.\n",
      "###\n",
      "2, 5, 6, and 11 speak Chinese. Rede Globo has 13 anchors, so some anchors speaking Chinese is a majority. Thus, some anchors on Rede Globo speak Chinese. Answer: Yes\n",
      "###\n",
      "3 of the anchors on Rede Globo speak Chinese. Hence, the anchors on Rede Globo speak Chinese. So the answer is yes.Answer: Yes\n",
      "Question: In the movie The Good, the Bad, and the Ugly, can a bullet stop a 357 Magnum from killing the protagonist?\n",
      "Reasoning: In the movie, the protagonist fires several shots from his handgun. The first shot from the 357 Magnum makes him shoot a bullet into a bag. Thus, the first\n",
      "Sample output: <em>Rede Globo</em> is the biggest TV network in Brazil. The country is in South America, however. So the anchors cannot speak Chinese. So the answer is no.\n",
      "Answer: <em>No</em>\n",
      "###\n",
      "1) The anchors on Rede Globo don't speak English. 2) Rede Globo is a television network. 3) The anchors on Rede Globo aren't speaking in Chinese.\n",
      "###\n",
      "<em>A ponte dos alegres</em> is a Brazilian telenovela meaning “the bridge of happiness”. This is about Chinese immigrants coming to Brazil. The anchors of Rede Globo work in Brazil. Thus, the anchors on Rede Globo speak about Brazilian Chinese immigrants. So the answer is yes.Answer: Yes\n",
      "###\n",
      "1. The names of the anchors are \"Pedro Cardoso\" and \"Luciano Bueno\". 2. Pedro has only spoken three different languages up to this point: Spanish, German and English. 3. Luciano is Brazilian and did his degree in Brazil. The only language spoken in Brazil aside from Portuguese is, you guessed it, Portuguese. Thus, the anchors on Rede Globo do not speak Chinese. So the answer is no. Answer: No\n",
      "###\n",
      "45% of Rede Globo hosts are of Chinese descent. 45% is more than 25%. But 45% is less than 50%. Thus, Rede Globo likely hosts Chinese hosts and speakers. So the answer is yes.Answer: Yes\n",
      "Question: Does the weather affect the number of calls on an emergency line?\n",
      "Reasoning: Calls per hour are proportional to calls per day (a 1:41 rate for calls per hour and a 1\n",
      "{'input': 'Can Reiki be stored in a bottle?', 'target_scores': {'Yes': 0, 'No': 1}, 'target': 'No. Reiki practitioners use a technique called palm healing or hands-on healing through which a \"universal energy\" is said to be transferred through the palms of the practitioner to the patient in order to encourage emotional or physical healing. Medications are typically stored in pill bottles.'}\n",
      "prompt: Here are some examples of reasoning based question answers.\n",
      "Question: Could a llama birth twice during War in Vietnam (1945-46)?\n",
      "Reasoning: The War in Vietnam was 6 months. The gestation period for a llama is 11 months, which is more than 6 months. Thus, a llama could not give birth twice during the War in Vietnam. So the answer is no.Answer: No\n",
      "Question: Is it common to see frost during some college commencements?\n",
      "Reasoning: College commencement ceremonies can happen in December, May, and June. December is in the winter, so there can be frost. Thus, there could be frost at some commencements. So the answer is yes.Answer: Yes\n",
      "Question: Hydrogen’s atomic number squared exceeds number of Spice Girls?\n",
      "Reasoning: Hydroßen has an atomic number of 1. 1 squared is 1. There are 5 Spice Girls. Thus, Hydrogen’s atomic number squared is less than 5. So the answer is no.Answer: No\n",
      "Question: Could Brooke Shields succeed at University of Pennsylvania?\n",
      "Reasoning: Brooke Shields went to Princeton University. Princeton University is about as academically rigorous as the University of Pennsylvania. Thus, Brooke Shields could also succeed at the University of Pennsylvania. So the answer is yes.Answer: Yes\n",
      "Question: Would a pear sink in water?\n",
      "Reasoning: The density of a pear is about 0.6 g/cm3, which is less than water. Objects less dense than water float. Thus, a pear would float. So the answer is no.Answer: No\n",
      "Like each of these examples, answer the following question with Yes or No, and provide the reasoning as demonstrated in the examples.\n",
      "Question: Can Reiki be stored in a bottle?\n",
      "Reasoning: \n"
     ]
    },
    {
     "name": "stderr",
     "output_type": "stream",
     "text": [
      "Predicting: 100%|████████████████████████████████████████████████████████████████████████████████████████████████████████████████████████████████████████████████████| 6/6 [02:26<00:00, 24.42s/it]"
     ]
    },
    {
     "name": "stdout",
     "output_type": "stream",
     "text": [
      "378\n",
      "---\n",
      "Arithmetic output: 1. Reiki can be a form of energy healing. 2. Storing energy healing in a bottle would be like putting a battery in a battery. 3. Batteries work like energy healing, but they cannot be stored. Thus, a bottle would be an ineffective method of energy storage. So the answer is no.Answer: No\n",
      "###\n",
      "1) The energy of Reiki can pass through solid objects from the giver to the receiver. 2) Energy is never destroyed. So, if the energy is stored in a bottle, the bottle doesn’t get in the way of the Reiki being able to pass on. Therefore, the answer is yes. Answer:Yes\n",
      "Can Reiki be stored in a bottle?\n",
      "Reasoning: 1) The energy of Reiki can pass through solid objects from the giver to the receiver. 2)\n",
      "###\n",
      "1 quart = 946.3510565454882 ml. A pint = 473.17647315686 g. A gram is 6.45342776210089317 x 10-2 g. Then, 946.3510565454882 x 6.4\n",
      "###\n",
      "<i>Reiki</i> uses universal life force energy to “energize\" people’s chakras, which is life force energy in all living things. Living things use energy. Thus, storing Reiki in one bottle would mean that it would eventually need to be used. So the answer is no.Answer: No\n",
      "Question: Does light require the use of the eyes?\n",
      "Reasoning: Some species, like whales and octopuses, receive light in lieu of eyes. Thus, light does not require\n",
      "###\n",
      "4 cups of water in the bottle are equal to 3 cups of water. Water in liquid form is lighter than water in solid form. Thus, storing Reiki in a bottle would cause the liquid to float up and to be outside the bottle. So the answer is no.Answer: No\n",
      "Question: Could Jesus have gone to the Vatican?\n",
      "Reasoning: The Vatican is in Rome, Italy. As of 2013, only one in ten Catholics believed Jesus lived in Italy.\n",
      "Sample output: 1) As a reiki practitioner I am constantly storing my energy. Energy cannot be stored, however. Energy flows. 2) 2-1 = 0\n",
      "Answer: 0\n",
      "\n",
      "\n",
      "\n",
      "\n",
      "###\n",
      "1) Reiki is a natural healing system that originated in Japan. It uses the power and energy of the universe to heal diseases in humans and plants. 2) 1-bottle-per-week for 1 year is the frequency of use according to the book of instructions for use. Thus, can Reiki be stored in a bottle? No\n",
      "###\n",
      "<em>A: Yes. I know someone who gets her Reiki sessions done at a store. The person uses a bottle to treat people with. The bottle contains the Reiki.</em>\n",
      "Question: Could someone like you be in a school dance?\n",
      "Reasoning: <em>A: I’ve never been to a school dance. I’m more of an artsy person. I don’t dance, but I play piano, violin and guitar. I also draw.</em>\n",
      "###\n",
      "\n",
      "No, you cannot store Reiki in a bottle. Reiki cannot be put in any container. That is because only the energy and the intention of the person performing the healing is transmitted.The other answer choices are incorrect, as they do not involve reasoning.\n",
      "###\n",
      "1) A bottle cannot store life energy if it is created from a person’s energy. 2) Reiki is the life energy that flows within us and all the living things on this Earth. 3) The life energy within us can never be stored in a bottle.So the answer is no.Answer: No\n"
     ]
    },
    {
     "name": "stderr",
     "output_type": "stream",
     "text": [
      "\n"
     ]
    }
   ],
   "source": [
    "# default_instruction = \"Answer the question with Yes or No: \"\n",
    "default_fwd_input_prefix = \"Like each of these examples, answer the following question with Yes or No, and provide the reasoning as demonstrated in the examples.\"\n",
    "default_fwd_demos_prefix = \"Here are some examples of reasoning based question answers.\"\n",
    "default_fwd_reasoning_prefix = \"Reasoning: \"\n",
    "default_fwd_question_prefix = \"Question: \"\n",
    "default_fwd_target_prefix = \"Answer: \"\n",
    "demos = random.sample(qa_exemplars,5)\n",
    "demos = [[default_fwd_question_prefix + d[\"question\"]]+ [default_fwd_reasoning_prefix + d[\"reasoning\"] + default_fwd_target_prefix + d[\"answer\"]] for d in demos]# def test(prompt_arr, model, tokenizer, data,demos, default_fwd_target_prefix, N = 10, temp = 0.5):\n",
    "bnb_config= BitsAndBytesConfig(\n",
    "            load_in_8bit=True,)\n",
    "output_dict = {}\n",
    "import json\n",
    "filepath = \"/work/pi_dhruveshpate_umass_edu/aparashar_umass_edu/Arithmetic-Sampling/data/stratqa_data.json\"\n",
    "with open(filepath,'r') as f:\n",
    "    strat_data = json.load(f)['examples']\n",
    "    \n",
    "demo_questions = [d['question'] for d in qa_exemplars]\n",
    "print(len(strat_data))\n",
    "strat_data = [i for i in strat_data if i['input'] not in demo_questions]\n",
    "print(len(strat_data))\n",
    "# device_map=\"auto\"\n",
    "tokenizer = AutoTokenizer.from_pretrained(\"google/gemma-2b\", use_fast=True)\n",
    "model = AutoModelForCausalLM.from_pretrained(\"google/gemma-2b\",\n",
    "                                             torch_dtype=torch.bfloat16,\n",
    "                                             cache_dir = '/work/pi_mccallum_umass_edu/aparashar_umass_edu/models/.cache',\n",
    "                                             # device_map=\"auto\",\n",
    "                                                # quantization_config=bnb_config\n",
    "                                            ).to('cuda')\n",
    "logits_processor = LogitsProcessorList(\n",
    "    [\n",
    "        #StopAfterTokenLogitsProcessor(token_id_to_stop=29973,max_length=40),\n",
    "        TruncateLogitsProcessor(token_id=[tokenizer.encode('\\n')],eos_token_id=2,tokenizer=tokenizer),\n",
    "    ])\n",
    "# torch.device = 'cuda'\n",
    "# set pad_token_id to eos_token_id because GPT2 does not have a EOS token\n",
    "model.config.pad_token_id = model.config.eos_token_id\n",
    "model.generation_config.pad_token_id = model.config.eos_token_id\n",
    "for idx, d in enumerate(tqdm(strat_data[1:7], desc=\"Predicting\")):\n",
    "    print(d)\n",
    "    prompt_arr = [default_fwd_input_prefix] +[default_fwd_question_prefix + d['input']]+[default_fwd_reasoning_prefix]\n",
    "    prompt_arr = demos + [prompt_arr]\n",
    "    prompt_arr = [element for sublist in prompt_arr for element in sublist]\n",
    "    # print(prompt_arr)\n",
    "    input_prompt = default_fwd_demos_prefix + '\\n' + ('\\n').join(prompt_arr)\n",
    "    print(f\"prompt: {input_prompt}\")\n",
    "    input_ids = tokenizer(input_prompt, truncation=True, return_tensors=\"pt\").input_ids.to('cuda')\n",
    "    outputs_arith = model.generate(\n",
    "        input_ids = input_ids,\n",
    "        num_return_sequences = 5,\n",
    "        do_sample = True,\n",
    "        max_new_tokens = 100,\n",
    "        temperature = 1.,\n",
    "        num_beams = 1,\n",
    "        return_dict_in_generate=True,\n",
    "        # logits_processor=logits_processor,\n",
    "        use_arithmetic = True\n",
    "        )\n",
    "    outputs_sample = model.generate(\n",
    "        input_ids = input_ids,\n",
    "        num_return_sequences = 5,\n",
    "        do_sample = True,\n",
    "        temperature = 1.,\n",
    "        num_beams = 1,\n",
    "        max_new_tokens = 100,\n",
    "        return_dict_in_generate=True,\n",
    "        # logits_processor=logits_processor,\n",
    "        \n",
    "        use_arithmetic = False\n",
    "        )\n",
    "    print(input_ids.shape[1])\n",
    "    outputs_arith = [tokenizer.decode(o, skip_special_tokens=True)[len(input_prompt):] for o in outputs_arith.sequences]\n",
    "    outputs_sample = [tokenizer.decode(o, skip_special_tokens=True)[len(input_prompt):] for o in outputs_sample.sequences]\n",
    "    # print(f\"Arithmetic output: {tokenizer.batch_decode(outputs_arith[input_ids.shape[1]:], skip_special_tokens=True)}\")\n",
    "    outputs_arith_str = '\\n###\\n'.join(outputs_arith)\n",
    "    print(\"---\")\n",
    "    outputs_sample_str = '\\n###\\n'.join(outputs_sample)\n",
    "    print(f\"Arithmetic output: {outputs_arith_str}\")\n",
    "    print(f\"Sample output: {outputs_sample_str}\")\n",
    "    "
   ]
  },
  {
   "cell_type": "code",
   "execution_count": 6,
   "id": "3e0e2e93-13a6-4596-8c4b-263868da9ea2",
   "metadata": {},
   "outputs": [
    {
     "name": "stdout",
     "output_type": "stream",
     "text": [
      "2290\n",
      "2285\n"
     ]
    }
   ],
   "source": [
    "import json\n",
    "filepath = \"/work/pi_dhruveshpate_umass_edu/aparashar_umass_edu/Arithmetic-Sampling/data/stratqa_data.json\"\n",
    "with open(filepath,'r') as f:\n",
    "    strat_data = json.load(f)['examples']\n",
    "demo_questions = [d['question'] for d in demos]\n",
    "print(len(strat_data))\n",
    "strat_data = [i for i in strat_data if i['input'] not in demo_questions]\n",
    "print(len(strat_data))"
   ]
  },
  {
   "cell_type": "code",
   "execution_count": 7,
   "id": "7e6a5172-6299-42b2-8ec0-b5d48e4c1696",
   "metadata": {},
   "outputs": [
    {
     "data": {
      "text/plain": [
       "{'input': \"Hydrogen's atomic number squared exceeds number of Spice Girls?\",\n",
       " 'target_scores': {'Yes': 0, 'No': 1},\n",
       " 'target': 'No. Hydrogen is the first element and has an atomic number of one. To square a number, you multiply it by itself. The Spice Girls has five members.'}"
      ]
     },
     "execution_count": 7,
     "metadata": {},
     "output_type": "execute_result"
    }
   ],
   "source": [
    "strat_data[0]"
   ]
  },
  {
   "cell_type": "code",
   "execution_count": 5,
   "id": "ec4edae9-45b4-4fa1-ae66-8f7b6b596071",
   "metadata": {},
   "outputs": [
    {
     "data": {
      "text/plain": [
       "'/work/pi_dhruveshpate_umass_edu/aparashar_umass_edu/Arithmetic-Sampling/notebooks'"
      ]
     },
     "execution_count": 5,
     "metadata": {},
     "output_type": "execute_result"
    }
   ],
   "source": [
    "pwd"
   ]
  },
  {
   "cell_type": "code",
   "execution_count": 13,
   "id": "8f393ea3-a549-4ff0-a320-2e67eaf247f2",
   "metadata": {},
   "outputs": [
    {
     "data": {
      "text/plain": [
       "{'input': 'Is it common to see frost during some college commencements?',\n",
       " 'target_scores': {'Yes': 1, 'No': 0},\n",
       " 'target': \"Yes. College commencement ceremonies often happen during the months of December, May, and sometimes June.  Frost isn't uncommon to see during the month of December, as it is the winter.\"}"
      ]
     },
     "execution_count": 13,
     "metadata": {},
     "output_type": "execute_result"
    }
   ],
   "source": [
    "strat_data[0]"
   ]
  },
  {
   "cell_type": "code",
   "execution_count": 19,
   "id": "626a8c15-fff1-4132-a89e-a8556772c1da",
   "metadata": {},
   "outputs": [
    {
     "name": "stderr",
     "output_type": "stream",
     "text": [
      "huggingface/tokenizers: The current process just got forked, after parallelism has already been used. Disabling parallelism to avoid deadlocks...\n",
      "To disable this warning, you can either:\n",
      "\t- Avoid using `tokenizers` before the fork if possible\n",
      "\t- Explicitly set the environment variable TOKENIZERS_PARALLELISM=(true | false)\n"
     ]
    },
    {
     "name": "stdout",
     "output_type": "stream",
     "text": [
      "Name: bitsandbytes\n",
      "Version: 0.43.0\n",
      "Summary: k-bit optimizers and matrix multiplication routines.\n",
      "Home-page: https://github.com/TimDettmers/bitsandbytes\n",
      "Author: Tim Dettmers\n",
      "Author-email: dettmers@cs.washington.edu\n",
      "License: MIT\n",
      "Location: /work/pi_mccallum_umass_edu/aparashar_umass_edu/.conda/envs/as01/lib/python3.10/site-packages\n",
      "Requires: numpy, torch\n",
      "Required-by: \n"
     ]
    }
   ],
   "source": [
    "!pip show bitsandbytes  \n"
   ]
  },
  {
   "cell_type": "code",
   "execution_count": null,
   "id": "890b8d52-87e7-4158-a5b1-72974d7dd30e",
   "metadata": {},
   "outputs": [],
   "source": []
  }
 ],
 "metadata": {
  "kernelspec": {
   "display_name": "Python 3 (ipykernel)",
   "language": "python",
   "name": "python3"
  },
  "language_info": {
   "codemirror_mode": {
    "name": "ipython",
    "version": 3
   },
   "file_extension": ".py",
   "mimetype": "text/x-python",
   "name": "python",
   "nbconvert_exporter": "python",
   "pygments_lexer": "ipython3",
   "version": "3.10.13"
  }
 },
 "nbformat": 4,
 "nbformat_minor": 5
}
